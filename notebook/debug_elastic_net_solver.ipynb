{
 "cells": [
  {
   "cell_type": "code",
   "execution_count": 1,
   "metadata": {},
   "outputs": [],
   "source": [
    "import sys\n",
    "sys.path.append(\"../code/\")\n",
    "\n",
    "from importlib import reload  \n",
    "import lib_LinearAlgebra\n",
    "import util_ElasticNet\n",
    "import lib_ElasticNet\n",
    "import lib_Checker\n",
    "lib_LinearAlgebra = reload(lib_LinearAlgebra)\n",
    "util_ElasticNet = reload(util_ElasticNet)\n",
    "lib_ElasticNet = reload(lib_ElasticNet)\n",
    "lib_Checker = reload(lib_Checker)\n",
    "\n",
    "import tensorflow as tf\n",
    "import numpy as np\n",
    "import matplotlib.pyplot as plt\n",
    "import scipy.stats\n",
    "import h5py"
   ]
  },
  {
   "cell_type": "markdown",
   "metadata": {},
   "source": [
    "# Simulate data"
   ]
  },
  {
   "cell_type": "code",
   "execution_count": 2,
   "metadata": {},
   "outputs": [],
   "source": [
    "n = 1000\n",
    "k = 2000\n",
    "n_outcome = 4\n",
    "kcovar = 2\n",
    "beta = np.reshape(np.array(range(1, k * n_outcome + 1)), newshape = [k, n_outcome]) / 10\n",
    "beta[5:, :] = 0\n",
    "bcovar = np.reshape(np.array(range(1, kcovar * n_outcome + 1)), newshape = [kcovar, n_outcome]) * 0.2\n",
    "intercepts = np.array([0, 0, 0, 0])  # [230, 250, 270, 290])\n",
    "\n",
    "x = np.random.normal(size = [n, k])\n",
    "covar = np.random.normal(size = [n, kcovar])\n",
    "y = np.matmul(x, beta) + np.matmul(covar, bcovar) + np.random.normal(size = [n, n_outcome]) + intercepts"
   ]
  },
  {
   "cell_type": "code",
   "execution_count": 3,
   "metadata": {},
   "outputs": [],
   "source": [
    "# with h5py.File('debug_en_tmp.hdf5', 'w') as f:\n",
    "#     f.create_dataset('x', data = x)\n",
    "#     f.create_dataset('y', data = y)\n",
    "#     f.create_dataset('covar', data = covar)\n",
    "#     f.create_dataset('beta', data = beta)\n",
    "#     f.create_dataset('bcovar', data = bcovar)"
   ]
  },
  {
   "cell_type": "code",
   "execution_count": 4,
   "metadata": {},
   "outputs": [],
   "source": [
    "# with h5py.File('debug_en_tmp.hdf5', 'r') as f:\n",
    "#     x = f['x'][:]\n",
    "#     y = f['y'][:]\n",
    "#     covar = f['covar'][:]\n",
    "#     beta = f['beta'][:]\n",
    "#     bcovar = f['bcovar'][:]"
   ]
  },
  {
   "cell_type": "code",
   "execution_count": 5,
   "metadata": {},
   "outputs": [],
   "source": [
    "# beta"
   ]
  },
  {
   "cell_type": "markdown",
   "metadata": {},
   "source": [
    "Pack it as a dataset."
   ]
  },
  {
   "cell_type": "code",
   "execution_count": 6,
   "metadata": {},
   "outputs": [],
   "source": [
    "train_prop = 0.8\n",
    "ntrain = int(n * train_prop)\n",
    "train_batch = 512 # ntrain"
   ]
  },
  {
   "cell_type": "code",
   "execution_count": 7,
   "metadata": {},
   "outputs": [],
   "source": [
    "dataset = tf.data.Dataset.from_tensor_slices((x, np.concatenate((y, covar), axis = 1)))\n",
    "dataset = dataset.map(lambda x, y: (tf.cast(x, tf.float32), tf.cast(y, tf.float32)))\n",
    "dataset_train = dataset.take(ntrain)\n",
    "dataset = dataset.skip(ntrain)\n",
    "dataset_train = dataset_train.batch(train_batch).repeat(200)\n",
    "dataset_valid = dataset"
   ]
  },
  {
   "cell_type": "code",
   "execution_count": 8,
   "metadata": {},
   "outputs": [
    {
     "data": {
      "text/plain": [
       "array([[-0.80456092,  0.22406942,  0.52180391, ...,  0.88219939,\n",
       "        -0.03714367, -0.32456744],\n",
       "       [ 0.31108437,  0.2260774 ,  0.97691245, ...,  0.19365635,\n",
       "         0.7365623 , -0.25451263],\n",
       "       [-1.24221893, -0.98757883, -0.59030683, ..., -0.86888124,\n",
       "        -1.4633885 , -2.24193551],\n",
       "       ...,\n",
       "       [ 1.27831634,  1.9982817 , -0.42984286, ...,  0.71739418,\n",
       "        -0.59199956,  0.49633093],\n",
       "       [-2.2481309 , -0.10822419, -2.41436902, ..., -0.948918  ,\n",
       "         1.05656043,  1.50004663],\n",
       "       [ 1.06808911, -1.30139985, -0.10843245, ...,  0.36099689,\n",
       "         1.70636105,  0.24408656]])"
      ]
     },
     "execution_count": 8,
     "metadata": {},
     "output_type": "execute_result"
    }
   ],
   "source": [
    "x"
   ]
  },
  {
   "cell_type": "markdown",
   "metadata": {},
   "source": [
    "Create the data scheme for loading x, y, and covariates."
   ]
  },
  {
   "cell_type": "code",
   "execution_count": 9,
   "metadata": {},
   "outputs": [],
   "source": [
    "data_scheme = lib_LinearAlgebra.DataScheme(\n",
    "    dataset = dataset_train, \n",
    "    X_index = 0,\n",
    "    Y_index = 1,\n",
    "    outcome_indice = [0], \n",
    "    covariate_indice = [4, 5]\n",
    ")"
   ]
  },
  {
   "cell_type": "code",
   "execution_count": 10,
   "metadata": {},
   "outputs": [
    {
     "data": {
      "text/plain": [
       "2000"
      ]
     },
     "execution_count": 10,
     "metadata": {},
     "output_type": "execute_result"
    }
   ],
   "source": [
    "data_scheme.num_predictors"
   ]
  },
  {
   "cell_type": "markdown",
   "metadata": {},
   "source": [
    "Load validation data into memory."
   ]
  },
  {
   "cell_type": "code",
   "execution_count": 11,
   "metadata": {},
   "outputs": [],
   "source": [
    "for ele in dataset_valid.batch(10000):\n",
    "    xvalid, yvalid = data_scheme.get_data_matrix(ele)\n",
    "    yvalid = yvalid[:, 0][:, np.newaxis]\n",
    "    break"
   ]
  },
  {
   "cell_type": "markdown",
   "metadata": {},
   "source": [
    "# Run elastic net in crappy way"
   ]
  },
  {
   "cell_type": "code",
   "execution_count": 12,
   "metadata": {},
   "outputs": [],
   "source": [
    "# Moved to lib_Checker.py\n",
    "# import functools\n",
    "# def my_stat_fun(np_1dim_array):\n",
    "#     return np.mean(np_1dim_array)\n",
    "# def diff_stop_rule(summary, threshold):\n",
    "#     n = len(summary)\n",
    "#     if n >= 2:\n",
    "#         return (summary[n - 2] - summary[n - 1]) / max(abs(summary[n - 2]), abs(summary[n - 1])) < threshold\n",
    "#     else:\n",
    "#         return False\n",
    "# my_stop_rule = functools.partial(diff_stop_rule, threshold = 1e-4)\n",
    "# class Checker:\n",
    "#     def __init__(self, sample_size, batch_size, stat_fun, stop_rule):\n",
    "#         self.sample_size = sample_size\n",
    "#         self.batch_size = batch_size\n",
    "#         self.nbatch = self._get_nbatch()\n",
    "#         self.iter_counter = 0\n",
    "#         self.epoch_counter = 0\n",
    "#         self.criteria_raw = []\n",
    "#         self.criteria_summary = []\n",
    "#         self.stat_fun = stat_fun\n",
    "#         self.stop_rule = stop_rule\n",
    "#         # internal state for current epoch\n",
    "#         self._criteria_curr = self._empty_criteria_curr()  \n",
    "#         self._iter_in_epoch_counter = 0\n",
    "#     def update(self, step_size = 1):\n",
    "#         '''\n",
    "#         update the internal states and return -1 if still in the same epoch or 0 if update epoch\n",
    "#         '''\n",
    "#         self.iter_counter += step_size\n",
    "#         epoch_now = self._get_curr_epoch()\n",
    "#         if epoch_now == self.epoch_counter:\n",
    "#             self._iter_in_epoch_counter += 1\n",
    "#             return -1\n",
    "#         elif epoch_now == self.epoch_counter + 1:\n",
    "#             self._iter_in_epoch_counter = 0\n",
    "#             self.epoch_counter += 1\n",
    "#             return 0\n",
    "#     def record(self, update_return, criteria):\n",
    "#         '''\n",
    "#         it should only be run after running update\n",
    "#         '''\n",
    "#         self.criteria_raw.append([self.iter_counter, self.epoch_counter, criteria])\n",
    "#         self._criteria_curr[self._iter_in_epoch_counter] = criteria\n",
    "#         if update_return == -1:\n",
    "#             pass\n",
    "#         elif update_return == 0:\n",
    "#             self.criteria_summary.append(self.stat_fun(self._criteria_curr))\n",
    "#             self._criteria_curr = self._empty_criteria_curr()\n",
    "#             return 0\n",
    "#     def ifstop(self):\n",
    "#         return self.stop_rule(self.criteria_summary)\n",
    "#     def _empty_criteria_curr(self):\n",
    "#         return np.empty((self.nbatch, ))\n",
    "#     def _get_nbatch(self):\n",
    "#         div = int(self.sample_size / self.batch_size) \n",
    "#         if self.sample_size % self.batch_size == 0:\n",
    "#             return div\n",
    "#         else:\n",
    "#             return div + 1\n",
    "#     def _get_curr_epoch(self):\n",
    "#         return int(self.iter_counter / self.sample_size)"
   ]
  },
  {
   "cell_type": "code",
   "execution_count": 13,
   "metadata": {},
   "outputs": [],
   "source": [
    "import functools\n",
    "my_stop_rule = functools.partial(lib_Checker.diff_stop_rule, threshold = 1e-4)"
   ]
  },
  {
   "cell_type": "code",
   "execution_count": 14,
   "metadata": {},
   "outputs": [
    {
     "data": {
      "text/plain": [
       "800"
      ]
     },
     "execution_count": 14,
     "metadata": {},
     "output_type": "execute_result"
    }
   ],
   "source": [
    "ntrain"
   ]
  },
  {
   "cell_type": "code",
   "execution_count": 15,
   "metadata": {},
   "outputs": [
    {
     "name": "stdout",
     "output_type": "stream",
     "text": [
      "lambda = 11.117871278748975\n",
      "i = 0, model1 = 9.145807266235352\n",
      "lambda = 10.368563979701756\n",
      "i = 0, model1 = 8.300065994262695\n",
      "lambda = 9.66975748376049\n",
      "i = 0, model1 = 8.301004409790039\n",
      "lambda = 9.018048205883916\n",
      "i = 0, model1 = 8.301630020141602\n",
      "lambda = 8.410261951266579\n",
      "i = 0, model1 = 8.302043914794922\n",
      "lambda = 7.843438455204996\n",
      "i = 0, model1 = 8.30231761932373\n",
      "lambda = 7.314816964925065\n",
      "i = 0, model1 = 8.302497863769531\n",
      "lambda = 6.821822793146029\n",
      "i = 0, model1 = 8.302616119384766\n",
      "lambda = 6.362054777889229\n",
      "i = 0, model1 = 8.302694320678711\n",
      "lambda = 5.93327358745373\n",
      "i = 0, model1 = 8.300554275512695\n",
      "lambda = 5.533390813597454\n",
      "i = 0, model1 = 8.2916841506958\n",
      "lambda = 5.160458799801378\n",
      "i = 0, model1 = 8.269867897033691\n",
      "lambda = 4.812661155074669\n",
      "i = 0, model1 = 8.234212875366211\n",
      "lambda = 4.488303907097586\n",
      "i = 0, model1 = 8.188545227050781\n",
      "lambda = 4.185807251612939\n",
      "i = 0, model1 = 8.133933067321777\n",
      "lambda = 3.903697857880934\n",
      "i = 0, model1 = 8.07052230834961\n",
      "lambda = 3.640601692720591\n",
      "i = 0, model1 = 7.991553783416748\n",
      "lambda = 3.395237328186757\n",
      "i = 0, model1 = 7.896543979644775\n",
      "lambda = 3.1664097002872746\n",
      "i = 0, model1 = 7.788598537445068\n",
      "lambda = 2.953004288341712\n",
      "i = 0, model1 = 7.669706344604492\n",
      "lambda = 2.7539816866318305\n",
      "i = 0, model1 = 7.5411376953125\n",
      "lambda = 2.568372541904639\n",
      "i = 0, model1 = 7.403968811035156\n",
      "lambda = 2.3952728320707837\n",
      "i = 0, model1 = 7.259210109710693\n",
      "lambda = 2.233839463102862\n",
      "i = 0, model1 = 7.106796741485596\n",
      "lambda = 2.083286162688051\n",
      "i = 0, model1 = 6.947114944458008\n",
      "lambda = 1.9428796506347938\n",
      "i = 0, model1 = 6.772937774658203\n",
      "lambda = 1.811936067381258\n",
      "i = 0, model1 = 6.607247829437256\n",
      "lambda = 1.6898176432103618\n",
      "i = 0, model1 = 6.426662921905518\n",
      "lambda = 1.5759295919485585\n",
      "i = 0, model1 = 6.254561424255371\n",
      "lambda = 1.46971721401892\n",
      "i = 0, model1 = 6.069452285766602\n",
      "lambda = 1.3706631947387438\n",
      "i = 0, model1 = 5.894128799438477\n",
      "lambda = 1.2782850847028548\n",
      "i = 0, model1 = 5.707808494567871\n",
      "lambda = 1.1921329499806386\n",
      "i = 0, model1 = 5.532454013824463\n",
      "lambda = 1.1117871806819224\n",
      "i = 0, model1 = 5.3496317863464355\n",
      "lambda = 1.0368564472181838\n",
      "i = 0, model1 = 5.181206703186035\n",
      "lambda = 0.9669757943049064\n",
      "i = 0, model1 = 5.012334823608398\n",
      "lambda = 0.9018048634217977\n",
      "i = 0, model1 = 4.845606803894043\n",
      "lambda = 0.8410262350732359\n",
      "i = 0, model1 = 4.684266567230225\n",
      "lambda = 0.7843438827748124\n",
      "i = 0, model1 = 4.527742385864258\n",
      "lambda = 0.731481731236003\n",
      "i = 0, model1 = 4.376318454742432\n",
      "lambda = 0.6821823117165041\n",
      "i = 0, model1 = 4.2295145988464355\n",
      "lambda = 0.6362055080070443\n",
      "i = 0, model1 = 4.087752342224121\n",
      "lambda = 0.5933273869268942\n",
      "i = 0, model1 = 3.951267957687378\n",
      "lambda = 0.5533391076419265\n",
      "i = 0, model1 = 3.8220367431640625\n",
      "lambda = 0.516045904490988\n",
      "i = 0, model1 = 3.701176404953003\n",
      "lambda = 0.4812661383663677\n",
      "i = 0, model1 = 3.5845513343811035\n",
      "lambda = 0.448830412028046\n",
      "i = 0, model1 = 3.471670150756836\n",
      "lambda = 0.4185807450428002\n",
      "i = 0, model1 = 3.3612241744995117\n",
      "lambda = 0.3903698043296526\n",
      "i = 0, model1 = 3.2533299922943115\n",
      "lambda = 0.3640601865639795\n",
      "i = 0, model1 = 3.1475682258605957\n",
      "lambda = 0.33952374894517856\n",
      "i = 0, model1 = 3.043186664581299\n",
      "lambda = 0.316640985068358\n",
      "i = 0, model1 = 2.9408435821533203\n",
      "lambda = 0.2953004428601809\n",
      "i = 0, model1 = 2.8402602672576904\n",
      "lambda = 0.2753981817438867\n",
      "i = 0, model1 = 2.7421741485595703\n",
      "lambda = 0.25683726638957194\n",
      "i = 0, model1 = 2.6461496353149414\n",
      "lambda = 0.23952729458400734\n",
      "i = 0, model1 = 2.5507373809814453\n",
      "lambda = 0.22338395692044824\n",
      "i = 0, model1 = 2.4563732147216797\n",
      "lambda = 0.20832862616387773\n",
      "i = 0, model1 = 2.363478660583496\n",
      "lambda = 0.19428797429165734\n",
      "i = 0, model1 = 2.272075891494751\n",
      "lambda = 0.18119361534435544\n",
      "i = 0, model1 = 2.182100772857666\n",
      "lambda = 0.16898177234723477\n",
      "i = 0, model1 = 2.092802047729492\n",
      "lambda = 0.15759296668011552\n",
      "i = 0, model1 = 2.0044264793395996\n",
      "lambda = 0.14697172838267022\n",
      "i = 0, model1 = 1.9176533222198486\n",
      "lambda = 0.1370663259841715\n",
      "i = 0, model1 = 1.8326456546783447\n",
      "lambda = 0.12782851454181038\n",
      "i = 0, model1 = 1.7498022317886353\n",
      "lambda = 0.1192133006603883\n",
      "i = 0, model1 = 1.6690073013305664\n",
      "lambda = 0.11117872334889499\n",
      "i = 0, model1 = 1.5903809070587158\n",
      "lambda = 0.10368564964661944\n",
      "i = 0, model1 = 1.5137715339660645\n",
      "lambda = 0.0966975840233766\n",
      "i = 0, model1 = 1.439389944076538\n",
      "lambda = 0.09018049062552058\n",
      "i = 0, model1 = 1.3674129247665405\n",
      "lambda = 0.08410262750198158\n",
      "i = 0, model1 = 1.2979238033294678\n",
      "lambda = 0.0784343920029126\n",
      "i = 0, model1 = 1.2309143543243408\n",
      "lambda = 0.07314817659795009\n",
      "i = 0, model1 = 1.1662542819976807\n",
      "lambda = 0.06821823441184065\n",
      "i = 0, model1 = 1.103715181350708\n",
      "lambda = 0.0636205538225167\n",
      "i = 0, model1 = 1.0435593128204346\n",
      "lambda = 0.05933274151084171\n",
      "i = 0, model1 = 0.9859689474105835\n",
      "lambda = 0.05533391339241091\n",
      "i = 0, model1 = 0.930774450302124\n",
      "lambda = 0.05160459290018394\n",
      "i = 0, model1 = 0.8779811859130859\n",
      "lambda = 0.048126616122526986\n",
      "i = 0, model1 = 0.8275106549263\n",
      "lambda = 0.04488304333463347\n",
      "i = 0, model1 = 0.7793262004852295\n",
      "lambda = 0.041858076492430764\n",
      "i = 0, model1 = 0.7334784865379333\n",
      "lambda = 0.039036982287121304\n",
      "i = 0, model1 = 0.6898590326309204\n",
      "lambda = 0.03640602038559006\n",
      "i = 0, model1 = 0.648390531539917\n",
      "lambda = 0.03395237650716821\n",
      "i = 0, model1 = 0.6090526580810547\n",
      "lambda = 0.03166410001079892\n",
      "i = 0, model1 = 0.571765124797821\n",
      "lambda = 0.029530045688619132\n",
      "i = 0, model1 = 0.5365646481513977\n",
      "lambda = 0.027539819482459097\n",
      "i = 0, model1 = 0.5032666921615601\n",
      "lambda = 0.025683727858868056\n",
      "i = 0, model1 = 0.47177332639694214\n",
      "lambda = 0.023952730596093687\n",
      "i = 0, model1 = 0.44203877449035645\n",
      "lambda = 0.022338396753061082\n",
      "i = 0, model1 = 0.41399675607681274\n",
      "lambda = 0.020832863605895088\n",
      "i = 0, model1 = 0.3876006305217743\n",
      "lambda = 0.019428798351983557\n",
      "i = 0, model1 = 0.36276495456695557\n",
      "lambda = 0.018119362395058538\n",
      "i = 0, model1 = 0.3393872380256653\n",
      "lambda = 0.01689817803734336\n",
      "i = 0, model1 = 0.31740090250968933\n",
      "lambda = 0.015759297416537546\n",
      "i = 0, model1 = 0.2967470586299896\n",
      "lambda = 0.014697173536344869\n",
      "i = 0, model1 = 0.2773297429084778\n",
      "lambda = 0.013706633249446888\n",
      "i = 0, model1 = 0.2591085433959961\n",
      "lambda = 0.012782852061333562\n",
      "i = 0, model1 = 0.2419985830783844\n",
      "lambda = 0.011921330632271307\n",
      "i = 0, model1 = 0.225946307182312\n",
      "lambda = 0.011117872862959793\n",
      "i = 0, model1 = 0.21090778708457947\n"
     ]
    }
   ],
   "source": [
    "alpha = 0.5\n",
    "learning_rate = 0.05\n",
    "nx = data_scheme.get_num_covariate() + data_scheme.get_num_predictor()\n",
    "# model\n",
    "model_lseq = lib_ElasticNet.ElasticNet(nx, alpha, 0)\n",
    "# lambda seq\n",
    "lambda_max = util_ElasticNet.get_lambda_max(model_lseq, xvalid, yvalid) * 2\n",
    "lambda_seq = util_ElasticNet.get_lambda_sequence(lambda_max, lambda_max / 1e3, 100)\n",
    "# update rule\n",
    "updater = lib_ElasticNet.ProximalUpdater(learning_rate)\n",
    "n = 0\n",
    "betahat = np.empty((beta.shape[0], len(lambda_seq)))\n",
    "path = []\n",
    "counter = 0\n",
    "for lambda_i in lambda_seq:\n",
    "    print('lambda = {}'.format(lambda_i))\n",
    "    model_lseq.update_lambda(lambda_i)\n",
    "    i = 0\n",
    "    checker = lib_Checker.Checker(ntrain, train_batch, lib_Checker.my_stat_fun, my_stop_rule)\n",
    "    for ele in data_scheme.dataset:\n",
    "        x, y = data_scheme.get_data_matrix(ele)\n",
    "        step_size = x.shape[0]\n",
    "        if i % 100 == 0:\n",
    "            print('i = {}, model1 = {}'.format(i, model_lseq.objective(x, y)[0]))\n",
    "        i += 1\n",
    "        n += 1\n",
    "        obj, loss = updater.proximal_train_step(model_lseq, x, y)\n",
    "        update_status = checker.update(step_size)\n",
    "        if update_status == 0:\n",
    "            vloss = model_lseq.objective(x, y)[0]\n",
    "            checker.record(update_status, vloss)\n",
    "            if checker.ifstop() == True:\n",
    "                break\n",
    "#             print('checker ifstop = {}'.format(checker.ifstop()))\n",
    "    betahat[:, counter] = model_lseq.A[:beta.shape[0], 0]\n",
    "    path.append(np.array(checker.criteria_summary))\n",
    "    counter += 1"
   ]
  },
  {
   "cell_type": "code",
   "execution_count": 16,
   "metadata": {},
   "outputs": [],
   "source": [
    "tmp = path[0]\n",
    "for i in range(1, len(path)):\n",
    "    tmp = np.concatenate((tmp, path[i]), axis = 0)\n",
    "# path = np.reshape(tmp, newshape = tmp.shape[0] * tmp.shape[1])"
   ]
  },
  {
   "cell_type": "code",
   "execution_count": 17,
   "metadata": {},
   "outputs": [
    {
     "data": {
      "text/plain": [
       "(23,)"
      ]
     },
     "execution_count": 17,
     "metadata": {},
     "output_type": "execute_result"
    }
   ],
   "source": [
    "path[0].shape"
   ]
  },
  {
   "cell_type": "code",
   "execution_count": 18,
   "metadata": {},
   "outputs": [
    {
     "data": {
      "text/plain": [
       "[<matplotlib.lines.Line2D at 0x7fea601580d0>]"
      ]
     },
     "execution_count": 18,
     "metadata": {},
     "output_type": "execute_result"
    },
    {
     "data": {
      "image/png": "[encoded data removed]",
      "text/plain": [
       "<Figure size 432x288 with 1 Axes>"
      ]
     },
     "metadata": {
      "needs_background": "light"
     },
     "output_type": "display_data"
    }
   ],
   "source": [
    "plt.plot(tmp[400:])"
   ]
  },
  {
   "cell_type": "code",
   "execution_count": 19,
   "metadata": {},
   "outputs": [
    {
     "data": {
      "text/plain": [
       "array([0., 0., 0., ..., 0., 0., 0.])"
      ]
     },
     "execution_count": 19,
     "metadata": {},
     "output_type": "execute_result"
    }
   ],
   "source": [
    "betahat[:,0]"
   ]
  },
  {
   "cell_type": "code",
   "execution_count": 20,
   "metadata": {},
   "outputs": [
    {
     "data": {
      "image/png": "[encoded data removed]",
      "text/plain": [
       "<Figure size 432x288 with 1 Axes>"
      ]
     },
     "metadata": {
      "needs_background": "light"
     },
     "output_type": "display_data"
    }
   ],
   "source": [
    "fig, aes = plt.subplots()\n",
    "for i in range(betahat.shape[0]):\n",
    "    aes.plot(betahat[i, :])\n",
    "    if beta[i, 0] != 0:\n",
    "        aes.plot([0, 100], [beta[i, 0], beta[i, 0]], ':')\n",
    "# plt.plot(betahat[0,:])\n",
    "# plt.plot(betahat[10,:])\n",
    "# plt.plot(betahat[9,:])\n",
    "# plt.plot(betahat[2,:])\n",
    "# plt.plot(betahat[1,:])\n",
    "# plt.plot(betahat[4,:])\n",
    "# plt.plot(betahat[3,:])"
   ]
  },
  {
   "cell_type": "code",
   "execution_count": 25,
   "metadata": {},
   "outputs": [
    {
     "data": {
      "text/plain": [
       "[array([4.21940279, 4.05820084, 3.94856644, 3.87350082, 3.82171202,\n",
       "        3.78567672, 3.76036787, 3.74241376, 3.7295413 , 3.72021055,\n",
       "        3.71337128, 3.70830369, 3.70450759, 3.70163679, 3.69944382,\n",
       "        3.69775558, 3.69644499, 3.69542193, 3.69461703, 3.69398165,\n",
       "        3.69347763, 3.6930759 , 3.69275546]),\n",
       " array([3.69249892, 3.69229293]),\n",
       " array([3.69212723, 3.69199419]),\n",
       " array([3.69188643, 3.69180012]),\n",
       " array([3.69173002, 3.69167376]),\n",
       " array([3.69162798, 3.6915915 ]),\n",
       " array([3.69156146, 3.69153762]),\n",
       " array([3.69151807, 3.69150209]),\n",
       " array([3.69099522, 3.69090009]),\n",
       " array([3.68785095, 3.68755913]),\n",
       " array([3.68212271, 3.68201876]),\n",
       " array([3.67239547, 3.67236328]),\n",
       " array([3.65812492, 3.65808415]),\n",
       " array([3.63945317, 3.63939834]),\n",
       " array([3.61672878, 3.61668205]),\n",
       " array([3.59035945, 3.59059215]),\n",
       " array([3.55926919, 3.55956411]),\n",
       " array([3.52233386, 3.52256083]),\n",
       " array([3.47974205, 3.47990751]),\n",
       " array([3.43195772, 3.43206406]),\n",
       " array([3.37945795, 3.37950516]),\n",
       " array([3.32271338, 3.32270169]),\n",
       " array([3.26202059, 3.26188898]),\n",
       " array([3.19732952, 3.1970458 ]),\n",
       " array([3.12902117, 3.12863827, 3.12898636]),\n",
       " array([3.05739355, 3.0573051 ]),\n",
       " array([2.98361826, 2.98327112, 2.98357987]),\n",
       " array([2.90741682, 2.90730023]),\n",
       " array([2.82998276, 2.82960892, 2.82987309]),\n",
       " array([2.75098801, 2.75085115]),\n",
       " array([2.67161942, 2.67124248, 2.6714735 ]),\n",
       " array([2.59147859, 2.59134674]),\n",
       " array([2.51162767, 2.5113163 , 2.51154542]),\n",
       " array([2.43160892, 2.43156672]),\n",
       " array([2.35234737, 2.35217571]),\n",
       " array([2.27372646, 2.2735467 ]),\n",
       " array([2.19598246, 2.1958704 ]),\n",
       " array([2.11929464, 2.11928988]),\n",
       " array([2.0438261 , 2.04395437]),\n",
       " array([1.96971738, 1.96999371]),\n",
       " array([1.89712358, 1.89755762]),\n",
       " array([1.82610738, 1.82663608]),\n",
       " array([1.75663185, 1.75721073]),\n",
       " array([1.68861771, 1.68927646]),\n",
       " array([1.62216306, 1.6229521 ]),\n",
       " array([1.55730629, 1.55817866]),\n",
       " array([1.49424446, 1.49536419]),\n",
       " array([1.43295693, 1.43421102]),\n",
       " array([1.37340808, 1.37476432]),\n",
       " array([1.31572044, 1.3172518 ]),\n",
       " array([1.25980544, 1.26139212]),\n",
       " array([1.20539272, 1.20690835]),\n",
       " array([1.15237284, 1.15384626]),\n",
       " array([1.10078883, 1.10218585]),\n",
       " array([1.05072951, 1.05213177]),\n",
       " array([1.00230527, 1.00371361]),\n",
       " array([0.95546627, 0.95691997]),\n",
       " array([0.91043109, 0.9119817 ]),\n",
       " array([0.86725843, 0.86891478]),\n",
       " array([0.82603335, 0.82791466]),\n",
       " array([0.78672695, 0.78874433]),\n",
       " array([0.74916345, 0.7512359 ]),\n",
       " array([0.71319425, 0.71527821]),\n",
       " array([0.6787321 , 0.68081319]),\n",
       " array([0.64567888, 0.64770019]),\n",
       " array([0.61403769, 0.61606663]),\n",
       " array([0.58390582, 0.58595288]),\n",
       " array([0.5551641, 0.5571965]),\n",
       " array([0.52769554, 0.52968687]),\n",
       " array([0.50144523, 0.50339621]),\n",
       " array([0.47636378, 0.4782728 ]),\n",
       " array([0.4524318 , 0.45431679]),\n",
       " array([0.42963055, 0.43150097]),\n",
       " array([0.40787703, 0.40966594]),\n",
       " array([0.38705206, 0.38876092]),\n",
       " array([0.36714616, 0.36877203]),\n",
       " array([0.34810197, 0.34962946]),\n",
       " array([0.32987949, 0.33131674]),\n",
       " array([0.31245705, 0.31379929]),\n",
       " array([0.29581136, 0.29706752]),\n",
       " array([0.27993026, 0.28111702]),\n",
       " array([0.26479691, 0.26590729]),\n",
       " array([0.250366  , 0.25140032]),\n",
       " array([0.2366138 , 0.23756665]),\n",
       " array([0.22350115, 0.22437772]),\n",
       " array([0.21101472, 0.21182457]),\n",
       " array([0.19914117, 0.19989061]),\n",
       " array([0.18785585, 0.1885474 ]),\n",
       " array([0.17713463, 0.17776689]),\n",
       " array([0.16694897, 0.16752556]),\n",
       " array([0.15728079, 0.1578086 ]),\n",
       " array([0.1481152 , 0.14860168]),\n",
       " array([0.13943614, 0.13988252]),\n",
       " array([0.13122074, 0.13162962]),\n",
       " array([0.12344889, 0.12382311]),\n",
       " array([0.11609825, 0.1164394 ]),\n",
       " array([0.10914969, 0.10946185]),\n",
       " array([0.10258675, 0.10287114]),\n",
       " array([0.09638784, 0.09664514]),\n",
       " array([0.09053305, 0.0907647 ])]"
      ]
     },
     "execution_count": 25,
     "metadata": {},
     "output_type": "execute_result"
    }
   ],
   "source": [
    "path"
   ]
  }
 ],
 "metadata": {
  "kernelspec": {
   "display_name": "Python 3",
   "language": "python",
   "name": "python3"
  },
  "language_info": {
   "codemirror_mode": {
    "name": "ipython",
    "version": 3
   },
   "file_extension": ".py",
   "mimetype": "text/x-python",
   "name": "python",
   "nbconvert_exporter": "python",
   "pygments_lexer": "ipython3",
   "version": "3.7.1"
  }
 },
 "nbformat": 4,
 "nbformat_minor": 2
}
