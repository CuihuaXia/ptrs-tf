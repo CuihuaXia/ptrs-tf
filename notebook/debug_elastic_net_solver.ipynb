{
 "cells": [
  {
   "cell_type": "code",
   "execution_count": 1,
   "metadata": {},
   "outputs": [],
   "source": [
    "import sys\n",
    "sys.path.append(\"../code/\")\n",
    "\n",
    "from importlib import reload  \n",
    "import lib_LinearAlgebra\n",
    "import util_ElasticNet\n",
    "import lib_ElasticNet\n",
    "import lib_Checker\n",
    "lib_LinearAlgebra = reload(lib_LinearAlgebra)\n",
    "util_ElasticNet = reload(util_ElasticNet)\n",
    "lib_ElasticNet = reload(lib_ElasticNet)\n",
    "lib_Checker = reload(lib_Checker)\n",
    "\n",
    "import tensorflow as tf\n",
    "import numpy as np\n",
    "import matplotlib.pyplot as plt\n",
    "import scipy.stats\n",
    "import h5py"
   ]
  },
  {
   "cell_type": "markdown",
   "metadata": {},
   "source": [
    "# Simulate data"
   ]
  },
  {
   "cell_type": "code",
   "execution_count": 2,
   "metadata": {},
   "outputs": [],
   "source": [
    "n = 1000\n",
    "k = 2000\n",
    "n_outcome = 4\n",
    "kcovar = 2\n",
    "beta = np.reshape(np.array(range(1, k * n_outcome + 1)), newshape = [k, n_outcome]) / 10\n",
    "beta[5:, :] = 0\n",
    "bcovar = np.reshape(np.array(range(1, kcovar * n_outcome + 1)), newshape = [kcovar, n_outcome]) * 0.2\n",
    "intercepts = np.array([0, 0, 0, 0])  # [230, 250, 270, 290])\n",
    "\n",
    "x = np.random.normal(size = [n, k])\n",
    "covar = np.random.normal(size = [n, kcovar])\n",
    "y = np.matmul(x, beta) + np.matmul(covar, bcovar) + np.random.normal(size = [n, n_outcome]) + intercepts"
   ]
  },
  {
   "cell_type": "code",
   "execution_count": 3,
   "metadata": {},
   "outputs": [],
   "source": [
    "# with h5py.File('debug_en_tmp.hdf5', 'w') as f:\n",
    "#     f.create_dataset('x', data = x)\n",
    "#     f.create_dataset('y', data = y)\n",
    "#     f.create_dataset('covar', data = covar)\n",
    "#     f.create_dataset('beta', data = beta)\n",
    "#     f.create_dataset('bcovar', data = bcovar)"
   ]
  },
  {
   "cell_type": "code",
   "execution_count": 4,
   "metadata": {},
   "outputs": [],
   "source": [
    "# with h5py.File('debug_en_tmp.hdf5', 'r') as f:\n",
    "#     x = f['x'][:]\n",
    "#     y = f['y'][:]\n",
    "#     covar = f['covar'][:]\n",
    "#     beta = f['beta'][:]\n",
    "#     bcovar = f['bcovar'][:]"
   ]
  },
  {
   "cell_type": "code",
   "execution_count": 5,
   "metadata": {},
   "outputs": [],
   "source": [
    "# beta"
   ]
  },
  {
   "cell_type": "markdown",
   "metadata": {},
   "source": [
    "Pack it as a dataset."
   ]
  },
  {
   "cell_type": "code",
   "execution_count": 6,
   "metadata": {},
   "outputs": [],
   "source": [
    "train_prop = 0.8\n",
    "ntrain = int(n * train_prop)\n",
    "train_batch = 512 # ntrain"
   ]
  },
  {
   "cell_type": "code",
   "execution_count": 7,
   "metadata": {},
   "outputs": [],
   "source": [
    "dataset = tf.data.Dataset.from_tensor_slices((x, np.concatenate((y, covar), axis = 1)))\n",
    "dataset = dataset.map(lambda x, y: (tf.cast(x, tf.float32), tf.cast(y, tf.float32)))\n",
    "dataset_train = dataset.take(ntrain)\n",
    "dataset = dataset.skip(ntrain)\n",
    "dataset_train = dataset_train.batch(train_batch).repeat(200)\n",
    "dataset_valid = dataset"
   ]
  },
  {
   "cell_type": "code",
   "execution_count": 8,
   "metadata": {},
   "outputs": [
    {
     "data": {
      "text/plain": [
       "array([[-2.09457759, -1.29079699,  0.55338194, ...,  0.38046469,\n",
       "        -0.54994763,  1.07281825],\n",
       "       [-1.2586256 ,  0.46583762, -1.47175914, ..., -2.332359  ,\n",
       "         1.40838399, -0.08815829],\n",
       "       [ 0.37003022, -0.75610165, -0.32693305, ...,  0.16541425,\n",
       "        -1.25065046, -0.52717923],\n",
       "       ...,\n",
       "       [ 0.24104149, -0.82226435, -1.14906655, ..., -0.38360464,\n",
       "         0.30460443, -0.27651945],\n",
       "       [ 0.80343203,  1.08888805,  1.28412624, ..., -0.83269389,\n",
       "        -0.13413989,  2.21576932],\n",
       "       [ 1.31388246, -0.49354475, -1.75854157, ...,  0.37509889,\n",
       "         0.43455087,  0.72423909]])"
      ]
     },
     "execution_count": 8,
     "metadata": {},
     "output_type": "execute_result"
    }
   ],
   "source": [
    "x"
   ]
  },
  {
   "cell_type": "markdown",
   "metadata": {},
   "source": [
    "Create the data scheme for loading x, y, and covariates."
   ]
  },
  {
   "cell_type": "code",
   "execution_count": 9,
   "metadata": {},
   "outputs": [],
   "source": [
    "data_scheme = lib_LinearAlgebra.DataScheme(\n",
    "    dataset = dataset_train, \n",
    "    X_index = 0,\n",
    "    Y_index = 1,\n",
    "    outcome_indice = [0], \n",
    "    covariate_indice = [4, 5]\n",
    ")"
   ]
  },
  {
   "cell_type": "code",
   "execution_count": 10,
   "metadata": {},
   "outputs": [
    {
     "data": {
      "text/plain": [
       "2000"
      ]
     },
     "execution_count": 10,
     "metadata": {},
     "output_type": "execute_result"
    }
   ],
   "source": [
    "data_scheme.num_predictors"
   ]
  },
  {
   "cell_type": "markdown",
   "metadata": {},
   "source": [
    "Load validation data into memory."
   ]
  },
  {
   "cell_type": "code",
   "execution_count": 11,
   "metadata": {},
   "outputs": [],
   "source": [
    "for ele in dataset_valid.batch(10000):\n",
    "    xvalid, yvalid = data_scheme.get_data_matrix(ele)\n",
    "    yvalid = yvalid[:, 0][:, np.newaxis]\n",
    "    break"
   ]
  },
  {
   "cell_type": "markdown",
   "metadata": {},
   "source": [
    "# Run elastic net in crappy way"
   ]
  },
  {
   "cell_type": "code",
   "execution_count": 12,
   "metadata": {},
   "outputs": [],
   "source": [
    "# Moved to lib_Checker.py\n",
    "# import functools\n",
    "# def my_stat_fun(np_1dim_array):\n",
    "#     return np.mean(np_1dim_array)\n",
    "# def diff_stop_rule(summary, threshold):\n",
    "#     n = len(summary)\n",
    "#     if n >= 2:\n",
    "#         return (summary[n - 2] - summary[n - 1]) / max(abs(summary[n - 2]), abs(summary[n - 1])) < threshold\n",
    "#     else:\n",
    "#         return False\n",
    "# my_stop_rule = functools.partial(diff_stop_rule, threshold = 1e-4)\n",
    "# class Checker:\n",
    "#     def __init__(self, sample_size, batch_size, stat_fun, stop_rule):\n",
    "#         self.sample_size = sample_size\n",
    "#         self.batch_size = batch_size\n",
    "#         self.nbatch = self._get_nbatch()\n",
    "#         self.iter_counter = 0\n",
    "#         self.epoch_counter = 0\n",
    "#         self.criteria_raw = []\n",
    "#         self.criteria_summary = []\n",
    "#         self.stat_fun = stat_fun\n",
    "#         self.stop_rule = stop_rule\n",
    "#         # internal state for current epoch\n",
    "#         self._criteria_curr = self._empty_criteria_curr()  \n",
    "#         self._iter_in_epoch_counter = 0\n",
    "#     def update(self, step_size = 1):\n",
    "#         '''\n",
    "#         update the internal states and return -1 if still in the same epoch or 0 if update epoch\n",
    "#         '''\n",
    "#         self.iter_counter += step_size\n",
    "#         epoch_now = self._get_curr_epoch()\n",
    "#         if epoch_now == self.epoch_counter:\n",
    "#             self._iter_in_epoch_counter += 1\n",
    "#             return -1\n",
    "#         elif epoch_now == self.epoch_counter + 1:\n",
    "#             self._iter_in_epoch_counter = 0\n",
    "#             self.epoch_counter += 1\n",
    "#             return 0\n",
    "#     def record(self, update_return, criteria):\n",
    "#         '''\n",
    "#         it should only be run after running update\n",
    "#         '''\n",
    "#         self.criteria_raw.append([self.iter_counter, self.epoch_counter, criteria])\n",
    "#         self._criteria_curr[self._iter_in_epoch_counter] = criteria\n",
    "#         if update_return == -1:\n",
    "#             pass\n",
    "#         elif update_return == 0:\n",
    "#             self.criteria_summary.append(self.stat_fun(self._criteria_curr))\n",
    "#             self._criteria_curr = self._empty_criteria_curr()\n",
    "#             return 0\n",
    "#     def ifstop(self):\n",
    "#         return self.stop_rule(self.criteria_summary)\n",
    "#     def _empty_criteria_curr(self):\n",
    "#         return np.empty((self.nbatch, ))\n",
    "#     def _get_nbatch(self):\n",
    "#         div = int(self.sample_size / self.batch_size) \n",
    "#         if self.sample_size % self.batch_size == 0:\n",
    "#             return div\n",
    "#         else:\n",
    "#             return div + 1\n",
    "#     def _get_curr_epoch(self):\n",
    "#         return int(self.iter_counter / self.sample_size)"
   ]
  },
  {
   "cell_type": "code",
   "execution_count": 13,
   "metadata": {},
   "outputs": [],
   "source": [
    "import functools\n",
    "my_stop_rule = functools.partial(lib_Checker.diff_stop_rule, threshold = 1e-4)"
   ]
  },
  {
   "cell_type": "code",
   "execution_count": 14,
   "metadata": {},
   "outputs": [
    {
     "data": {
      "text/plain": [
       "800"
      ]
     },
     "execution_count": 14,
     "metadata": {},
     "output_type": "execute_result"
    }
   ],
   "source": [
    "ntrain"
   ]
  },
  {
   "cell_type": "code",
   "execution_count": 15,
   "metadata": {},
   "outputs": [
    {
     "name": "stdout",
     "output_type": "stream",
     "text": [
      "lambda = 13.542127701259068\n",
      "i = 0, model1 = 8.878482818603516\n",
      "lambda = 12.629433605876851\n",
      "i = 0, model1 = 7.810870170593262\n",
      "lambda = 11.778252038667592\n",
      "i = 0, model1 = 7.784806728363037\n",
      "lambda = 10.984437261052108\n",
      "i = 0, model1 = 7.770118713378906\n",
      "lambda = 10.244122943359871\n",
      "i = 0, model1 = 7.7615203857421875\n",
      "lambda = 9.553703333603513\n",
      "i = 0, model1 = 7.756324768066406\n",
      "lambda = 8.909815695414819\n",
      "i = 0, model1 = 7.753109931945801\n",
      "lambda = 8.309323929605164\n",
      "i = 0, model1 = 7.751081943511963\n",
      "lambda = 7.749303299577894\n",
      "i = 0, model1 = 7.751820087432861\n",
      "lambda = 7.227026186196879\n",
      "i = 0, model1 = 7.753142833709717\n",
      "lambda = 6.73994880272919\n",
      "i = 0, model1 = 7.750706672668457\n",
      "lambda = 6.285698805156248\n",
      "i = 0, model1 = 7.744161605834961\n",
      "lambda = 5.862063737508513\n",
      "i = 0, model1 = 7.731781959533691\n",
      "lambda = 5.466980255945949\n",
      "i = 0, model1 = 7.715383052825928\n",
      "lambda = 5.098524079099447\n",
      "i = 0, model1 = 7.691729545593262\n",
      "lambda = 4.754900615725557\n",
      "i = 0, model1 = 7.660487174987793\n",
      "lambda = 4.434436224025979\n",
      "i = 0, model1 = 7.620723247528076\n",
      "lambda = 4.135570060059644\n",
      "i = 0, model1 = 7.57237434387207\n",
      "lambda = 3.856846475544561\n",
      "i = 0, model1 = 7.513077259063721\n",
      "lambda = 3.596907928022375\n",
      "i = 0, model1 = 7.440151214599609\n",
      "lambda = 3.354488368854114\n",
      "i = 0, model1 = 7.354579448699951\n",
      "lambda = 3.128407076842902\n",
      "i = 0, model1 = 7.257407188415527\n",
      "lambda = 2.9175629074498604\n",
      "i = 0, model1 = 7.149641990661621\n",
      "lambda = 2.7209289295936263\n",
      "i = 0, model1 = 7.032435894012451\n",
      "lambda = 2.5375474239116294\n",
      "i = 0, model1 = 6.906428337097168\n",
      "lambda = 2.3665252181218275\n",
      "i = 0, model1 = 6.772744655609131\n",
      "lambda = 2.2070293367654514\n",
      "i = 0, model1 = 6.632317543029785\n",
      "lambda = 2.058282944142534\n",
      "i = 0, model1 = 6.4860639572143555\n",
      "lambda = 1.919561560680011\n",
      "i = 0, model1 = 6.334880352020264\n",
      "lambda = 1.7901895343039458\n",
      "i = 0, model1 = 6.179538726806641\n",
      "lambda = 1.6695367496294709\n",
      "i = 0, model1 = 6.020171165466309\n",
      "lambda = 1.557015558940302\n",
      "i = 0, model1 = 5.857069969177246\n",
      "lambda = 1.4520779200099787\n",
      "i = 0, model1 = 5.691414833068848\n",
      "lambda = 1.3542127268243627\n",
      "i = 0, model1 = 5.526091575622559\n",
      "lambda = 1.2629433202045197\n",
      "i = 0, model1 = 5.360904693603516\n",
      "lambda = 1.1778251662052845\n",
      "i = 0, model1 = 5.196605682373047\n",
      "lambda = 1.0984436909819928\n",
      "i = 0, model1 = 5.033653736114502\n",
      "lambda = 1.0244122615799571\n",
      "i = 0, model1 = 4.873040199279785\n",
      "lambda = 0.9553703028119677\n",
      "i = 0, model1 = 4.71599006652832\n",
      "lambda = 0.8909815410519576\n",
      "i = 0, model1 = 4.562197685241699\n",
      "lambda = 0.8309323663910902\n",
      "i = 0, model1 = 4.411825656890869\n",
      "lambda = 0.7749303051790541\n",
      "i = 0, model1 = 4.266659736633301\n",
      "lambda = 0.7227025955109564\n",
      "i = 0, model1 = 4.1246843338012695\n",
      "lambda = 0.6739948587216386\n",
      "i = 0, model1 = 3.9884421825408936\n",
      "lambda = 0.6285698604168287\n",
      "i = 0, model1 = 3.85742449760437\n",
      "lambda = 0.5862063550066465\n",
      "i = 0, model1 = 3.7300920486450195\n",
      "lambda = 0.5466980081136871\n",
      "i = 0, model1 = 3.60914945602417\n",
      "lambda = 0.5098523916071913\n",
      "i = 0, model1 = 3.495001792907715\n",
      "lambda = 0.47549004636855347\n",
      "i = 0, model1 = 3.385493755340576\n",
      "lambda = 0.4434436082232946\n",
      "i = 0, model1 = 3.280210018157959\n",
      "lambda = 0.4135569927822986\n",
      "i = 0, model1 = 3.179224967956543\n",
      "lambda = 0.38568463522202123\n",
      "i = 0, model1 = 3.0797033309936523\n",
      "lambda = 0.3596907813009674\n",
      "i = 0, model1 = 2.98209285736084\n",
      "lambda = 0.3354488261592885\n",
      "i = 0, model1 = 2.886077404022217\n",
      "lambda = 0.312840697681072\n",
      "i = 0, model1 = 2.791581630706787\n",
      "lambda = 0.2917562814159513\n",
      "i = 0, model1 = 2.698641300201416\n",
      "lambda = 0.2720928842590737\n",
      "i = 0, model1 = 2.6075663566589355\n",
      "lambda = 0.2537547342772443\n",
      "i = 0, model1 = 2.516589641571045\n",
      "lambda = 0.23665251424511502\n",
      "i = 0, model1 = 2.425504446029663\n",
      "lambda = 0.2207029266194725\n",
      "i = 0, model1 = 2.3374526500701904\n",
      "lambda = 0.2058282878328039\n",
      "i = 0, model1 = 2.2497520446777344\n",
      "lambda = 0.19195614993011928\n",
      "i = 0, model1 = 2.166433572769165\n",
      "lambda = 0.17901894770618537\n",
      "i = 0, model1 = 2.082937717437744\n",
      "lambda = 0.16695366962453043\n",
      "i = 0, model1 = 1.9999573230743408\n",
      "lambda = 0.15570155091540505\n",
      "i = 0, model1 = 1.918143391609192\n",
      "lambda = 0.14520778735791537\n",
      "i = 0, model1 = 1.8375070095062256\n",
      "lambda = 0.13542126835228202\n",
      "i = 0, model1 = 1.7580060958862305\n",
      "lambda = 0.12629432798213555\n",
      "i = 0, model1 = 1.680180311203003\n",
      "lambda = 0.11778251285438106\n",
      "i = 0, model1 = 1.6041254997253418\n",
      "lambda = 0.10984436558587767\n",
      "i = 0, model1 = 1.5292315483093262\n",
      "lambda = 0.10244122288239282\n",
      "i = 0, model1 = 1.4562181234359741\n",
      "lambda = 0.09553702722635851\n",
      "i = 0, model1 = 1.3851532936096191\n",
      "lambda = 0.08909815125624337\n",
      "i = 0, model1 = 1.3160375356674194\n",
      "lambda = 0.08309323398216654\n",
      "i = 0, model1 = 1.2492098808288574\n",
      "lambda = 0.07749302804003196\n",
      "i = 0, model1 = 1.1848387718200684\n",
      "lambda = 0.07227025724022257\n",
      "i = 0, model1 = 1.122910976409912\n",
      "lambda = 0.06739948371703586\n",
      "i = 0, model1 = 1.0635559558868408\n",
      "lambda = 0.0628569840318033\n",
      "i = 0, model1 = 1.0067461729049683\n",
      "lambda = 0.058620633626244256\n",
      "i = 0, model1 = 0.9522595405578613\n",
      "lambda = 0.05466979906327798\n",
      "i = 0, model1 = 0.9000660181045532\n",
      "lambda = 0.05098523753044385\n",
      "i = 0, model1 = 0.8502824902534485\n",
      "lambda = 0.047549003116455164\n",
      "i = 0, model1 = 0.8026036024093628\n",
      "lambda = 0.04434435940439916\n",
      "i = 0, model1 = 0.7570236325263977\n",
      "lambda = 0.04135569795586334\n",
      "i = 0, model1 = 0.7135997414588928\n",
      "lambda = 0.03856846228895868\n",
      "i = 0, model1 = 0.6721124053001404\n",
      "lambda = 0.03596907697996976\n",
      "i = 0, model1 = 0.6325152516365051\n",
      "lambda = 0.03354488154331658\n",
      "i = 0, model1 = 0.594907283782959\n",
      "lambda = 0.03128406876778542\n",
      "i = 0, model1 = 0.5591951608657837\n",
      "lambda = 0.029175627208691695\n",
      "i = 0, model1 = 0.5252129435539246\n",
      "lambda = 0.0272092875558785\n",
      "i = 0, model1 = 0.4929509460926056\n",
      "lambda = 0.02537547261633259\n",
      "i = 0, model1 = 0.4624054431915283\n",
      "lambda = 0.023665250667804765\n",
      "i = 0, model1 = 0.43348780274391174\n",
      "lambda = 0.022070291956240013\n",
      "i = 0, model1 = 0.4061632454395294\n",
      "lambda = 0.020582828125135462\n",
      "i = 0, model1 = 0.3803521990776062\n",
      "lambda = 0.019195614379223746\n",
      "i = 0, model1 = 0.3560616970062256\n",
      "lambda = 0.017901894198197644\n",
      "i = 0, model1 = 0.33317339420318604\n",
      "lambda = 0.016695366428611403\n",
      "i = 0, model1 = 0.3116194009780884\n",
      "lambda = 0.015570154593678004\n",
      "i = 0, model1 = 0.2913361191749573\n",
      "lambda = 0.014520778271483303\n",
      "i = 0, model1 = 0.2722774147987366\n",
      "lambda = 0.013542126402212787\n",
      "i = 0, model1 = 0.25438347458839417\n"
     ]
    }
   ],
   "source": [
    "alpha = 0.5\n",
    "learning_rate = 0.05\n",
    "nx = data_scheme.get_num_covariate() + data_scheme.get_num_predictor()\n",
    "# model\n",
    "model_lseq = lib_ElasticNet.ElasticNet(nx, alpha, 0)\n",
    "# lambda seq\n",
    "lambda_max = util_ElasticNet.get_lambda_max(model_lseq, xvalid, yvalid) * 2\n",
    "lambda_seq = util_ElasticNet.get_lambda_sequence(lambda_max, lambda_max / 1e3, 100)\n",
    "# update rule\n",
    "updater = lib_ElasticNet.ProximalUpdater(learning_rate)\n",
    "n = 0\n",
    "betahat = np.empty((beta.shape[0], len(lambda_seq)))\n",
    "path = []\n",
    "counter = 0\n",
    "for lambda_i in lambda_seq:\n",
    "    print('lambda = {}'.format(lambda_i))\n",
    "    model_lseq.update_lambda(lambda_i)\n",
    "    i = 0\n",
    "    checker = lib_Checker.Checker(ntrain, train_batch, lib_Checker.my_stat_fun, my_stop_rule)\n",
    "    for ele in data_scheme.dataset:\n",
    "        x, y = data_scheme.get_data_matrix(ele)\n",
    "        step_size = x.shape[0]\n",
    "        if i % 100 == 0:\n",
    "            print('i = {}, model1 = {}'.format(i, model_lseq.objective(x, y)[0]))\n",
    "        i += 1\n",
    "        n += 1\n",
    "        obj, loss = updater.proximal_train_step(model_lseq, x, y)\n",
    "        update_status = checker.update(step_size)\n",
    "        if update_status == 0:\n",
    "            vloss = model_lseq.objective(x, y)[0]\n",
    "            checker.record(update_status, vloss)\n",
    "            if checker.ifstop() == True:\n",
    "                break\n",
    "#             print('checker ifstop = {}'.format(checker.ifstop()))\n",
    "    betahat[:, counter] = model_lseq.A[:beta.shape[0], 0]\n",
    "    path.append(np.array(checker.criteria_summary))\n",
    "    counter += 1"
   ]
  },
  {
   "cell_type": "code",
   "execution_count": 16,
   "metadata": {},
   "outputs": [],
   "source": [
    "tmp = path[0]\n",
    "for i in range(1, len(path)):\n",
    "    tmp = np.concatenate((tmp, path[i]), axis = 0)\n",
    "# path = np.reshape(tmp, newshape = tmp.shape[0] * tmp.shape[1])"
   ]
  },
  {
   "cell_type": "code",
   "execution_count": 17,
   "metadata": {},
   "outputs": [
    {
     "data": {
      "text/plain": [
       "(9,)"
      ]
     },
     "execution_count": 17,
     "metadata": {},
     "output_type": "execute_result"
    }
   ],
   "source": [
    "path[0].shape"
   ]
  },
  {
   "cell_type": "code",
   "execution_count": 18,
   "metadata": {},
   "outputs": [
    {
     "data": {
      "text/plain": [
       "[<matplotlib.lines.Line2D at 0x7f561f958d90>]"
      ]
     },
     "execution_count": 18,
     "metadata": {},
     "output_type": "execute_result"
    },
    {
     "data": {
      "image/png": "[encoded data removed]",
      "text/plain": [
       "<Figure size 432x288 with 1 Axes>"
      ]
     },
     "metadata": {
      "needs_background": "light"
     },
     "output_type": "display_data"
    }
   ],
   "source": [
    "plt.plot(tmp[400:])"
   ]
  },
  {
   "cell_type": "code",
   "execution_count": 19,
   "metadata": {},
   "outputs": [
    {
     "data": {
      "text/plain": [
       "array([0., 0., 0., ..., 0., 0., 0.])"
      ]
     },
     "execution_count": 19,
     "metadata": {},
     "output_type": "execute_result"
    }
   ],
   "source": [
    "betahat[:,0]"
   ]
  },
  {
   "cell_type": "code",
   "execution_count": 20,
   "metadata": {},
   "outputs": [
    {
     "data": {
      "image/png": "[encoded data removed]",
      "text/plain": [
       "<Figure size 432x288 with 1 Axes>"
      ]
     },
     "metadata": {
      "needs_background": "light"
     },
     "output_type": "display_data"
    }
   ],
   "source": [
    "fig, aes = plt.subplots()\n",
    "for i in range(betahat.shape[0]):\n",
    "    aes.plot(betahat[i, :])\n",
    "    if beta[i, 0] != 0:\n",
    "        aes.plot([0, 100], [beta[i, 0], beta[i, 0]], ':')\n",
    "# plt.plot(betahat[0,:])\n",
    "# plt.plot(betahat[10,:])\n",
    "# plt.plot(betahat[9,:])\n",
    "# plt.plot(betahat[2,:])\n",
    "# plt.plot(betahat[1,:])\n",
    "# plt.plot(betahat[4,:])\n",
    "# plt.plot(betahat[3,:])"
   ]
  },
  {
   "cell_type": "code",
   "execution_count": 21,
   "metadata": {},
   "outputs": [],
   "source": [
    "# beta"
   ]
  }
 ],
 "metadata": {
  "kernelspec": {
   "display_name": "Python 3",
   "language": "python",
   "name": "python3"
  },
  "language_info": {
   "codemirror_mode": {
    "name": "ipython",
    "version": 3
   },
   "file_extension": ".py",
   "mimetype": "text/x-python",
   "name": "python",
   "nbconvert_exporter": "python",
   "pygments_lexer": "ipython3",
   "version": "3.7.6"
  }
 },
 "nbformat": 4,
 "nbformat_minor": 2
}
