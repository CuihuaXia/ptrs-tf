{
 "cells": [
  {
   "cell_type": "code",
   "execution_count": 1,
   "metadata": {},
   "outputs": [],
   "source": [
    "# logfile = '/vol/bmd/yanyul/UKB/ptrs-tf/models/elastic_net.log'\n",
    "output_dir = '/vol/bmd/yanyul/UKB/ptrs-tf/models'\n",
    "population = 'British'  #  'Chinese' # for test \n",
    "batch_size = 2 ** 12  # 512\n",
    "logfile = f'{output_dir}/cnn_{population}_ctimp_Whole_Blood.log'"
   ]
  },
  {
   "cell_type": "code",
   "execution_count": 2,
   "metadata": {},
   "outputs": [],
   "source": [
    "import sys, re\n",
    "sys.path.append(\"../code/\")\n",
    "import lib_LinearAlgebra, lib_cnnPTRS, util_hdf5, util_misc\n",
    "import tensorflow as tf\n",
    "import numpy as np\n",
    "import pandas as pd\n",
    "import h5py, yaml\n",
    "import matplotlib.pyplot as plt\n",
    "from importlib import reload  \n",
    "lib_LinearAlgebra = reload(lib_LinearAlgebra)\n",
    "lib_cnnPTRS = reload(lib_cnnPTRS)\n",
    "util_hdf5 = reload(util_hdf5)\n",
    "util_misc = reload(util_misc)\n",
    "import logging, sys\n",
    "import seaborn as sns\n",
    "logging.basicConfig(\n",
    "    level = logging.INFO, \n",
    "#     stream = sys.stderr,\n",
    "    filename = logfile,\n",
    "    format = '%(asctime)s  %(message)s',\n",
    "    datefmt = '%Y-%m-%d %I:%M:%S %p'\n",
    ")"
   ]
  },
  {
   "cell_type": "markdown",
   "metadata": {},
   "source": [
    "# Analysis overview\n",
    "\n",
    "Building PTRS using `cnnPTRS`. \n",
    "\n",
    "1. Split British data into 3 sets: training, test, validation.\n",
    "2. Train a cnnPTRS model using British training data. First train everything.\n",
    "3. Fixing covariate weights, train CNN only.\n"
   ]
  },
  {
   "cell_type": "markdown",
   "metadata": {},
   "source": [
    "# Load spatial information"
   ]
  },
  {
   "cell_type": "code",
   "execution_count": 3,
   "metadata": {},
   "outputs": [],
   "source": [
    "def get_tss(start, end, strand):\n",
    "    if strand == '+':\n",
    "        return start\n",
    "    else:\n",
    "        return end\n",
    "def chr2num(chrm):\n",
    "    if 'X' in chrm:\n",
    "        chrm = 23\n",
    "    elif 'Y' in chrm:\n",
    "        chrm = 24\n",
    "    elif 'M' in chrm:\n",
    "        chrm = 25\n",
    "    else:\n",
    "        chrm = int(re.sub('chr', '', chrm))\n",
    "    return chrm\n",
    "\n",
    "df_gene = pd.read_table('https://bitbucket.org/yanyul/rotation-at-imlab/raw/85a3fbe8f08df7c67265fed69569b7ea554d4e12/data/annotations_gencode_v26.tsv')\n",
    "\n",
    "\n",
    "df_gene['tss'] = df_gene[['start', 'end', 'strand']].apply(lambda x: get_tss(x.start, x.end, x.strand), axis = 1)\n",
    "\n",
    "df_gene['chr_num'] = df_gene[['chromosome']].apply(lambda x: chr2num(x.chromosome), axis = 1)\n",
    "\n",
    "df_gene.sort_values(['chr_num', 'tss'], ascending = [True, True], inplace = True) \n",
    "\n",
    "df_gene = df_gene.reset_index(drop = True)\n",
    "\n",
    "df_gene['rank'] = df_gene.index"
   ]
  },
  {
   "cell_type": "code",
   "execution_count": 4,
   "metadata": {},
   "outputs": [],
   "source": [
    "with h5py.File(f'/vol/bmd/yanyul/UKB/predicted_expression_tf2/ukb_imp_x_ctimp_Whole_Blood_{population}.hdf5', 'r') as f:\n",
    "    col_genes = f['columns_x'][...]\n",
    "col_genes_cleaned = [ i.astype(str).split('.')[0] for i in col_genes ]\n",
    "df_col_genes = pd.DataFrame({'gene_id': col_genes_cleaned, 'col_idx': [ i for i in range(len(col_genes_cleaned)) ]})\n",
    "\n",
    "df_gene_joined = df_gene.join(df_col_genes.set_index('gene_id'), on = 'gene_id')\n",
    "\n",
    "df_gene_joined = df_gene_joined.loc[df_gene_joined['gene_id'].isin(df_col_genes['gene_id'].to_list())].reset_index(drop = True)\n",
    "\n",
    "\n",
    "x_indice = [ int(i) for i in df_gene_joined['col_idx'].to_list() ]\n",
    "\n",
    "logging.info('Getting spatial data finished')"
   ]
  },
  {
   "cell_type": "markdown",
   "metadata": {},
   "source": [
    "# Load data"
   ]
  },
  {
   "cell_type": "code",
   "execution_count": 5,
   "metadata": {},
   "outputs": [],
   "source": [
    "logging.info(f'Loading data: {population}')\n",
    "# set path to British data\n",
    "hdf5_british = f'/vol/bmd/yanyul/UKB/predicted_expression_tf2/ukb_imp_x_ctimp_Whole_Blood_{population}.hdf5'\n",
    "\n",
    "# data scheme specifying which are traits and covariates\n",
    "scheme_yaml = '../misc_files/data_scheme.yaml'\n",
    "\n",
    "# loading names of traits/covariates\n",
    "# the order is matched with the data being loaded\n",
    "feature_dic = util_hdf5.read_yaml(scheme_yaml)\n",
    "with h5py.File(hdf5_british, 'r') as f:\n",
    "    features = f['columns_y'][:].astype('str')\n",
    "    sample_size = f['y'].shape[0]\n",
    "    y = f['y'][:]\n",
    "covar_indice = np.where(np.isin(features, feature_dic['covar_names']))[0]\n",
    "trait_indice = np.where(np.isin(features, feature_dic['outcome_names']))[0]"
   ]
  },
  {
   "cell_type": "code",
   "execution_count": 6,
   "metadata": {},
   "outputs": [
    {
     "name": "stderr",
     "output_type": "stream",
     "text": [
      "batch_size in British set is 4096\n"
     ]
    }
   ],
   "source": [
    "# load data_scheme for training\n",
    "batch_size_to_load = batch_size  # int(sample_size / 8) + 1\n",
    "print(f'batch_size in {population} set is {batch_size_to_load}', file = sys.stderr)\n",
    "data_scheme, sample_size = util_hdf5.build_data_scheme(\n",
    "    hdf5_british, \n",
    "    scheme_yaml, \n",
    "    batch_size = batch_size, \n",
    "    inv_norm_y = True\n",
    ")\n",
    "\n",
    "\n",
    "### IMPORTANT ###\n",
    "# set x_indice\n",
    "data_scheme.x_indice = x_indice\n",
    "\n",
    "# set validation and test set as the first and second batch\n",
    "dataset_valid = data_scheme.dataset.take(1)\n",
    "data_scheme.dataset = data_scheme.dataset.skip(1)\n",
    "# dataset_test = data_scheme.dataset.take(1)\n",
    "data_scheme.dataset = data_scheme.dataset.skip(1)\n",
    "dataset_insample = data_scheme.dataset.take(1)\n"
   ]
  },
  {
   "cell_type": "markdown",
   "metadata": {},
   "source": [
    "Prepare validation, insample, and test tensors."
   ]
  },
  {
   "cell_type": "code",
   "execution_count": 7,
   "metadata": {},
   "outputs": [],
   "source": [
    "logging.info('Preparing tensors')\n",
    "# ele_test = util_misc.get_inputs_and_y(dataset_test, data_scheme.get_num_outcome())\n",
    "ele_insample = util_misc.get_inputs_and_y(dataset_insample, data_scheme.get_num_outcome())\n",
    "ele_valid = util_misc.get_inputs_and_y(dataset_valid, data_scheme.get_num_outcome())"
   ]
  },
  {
   "cell_type": "markdown",
   "metadata": {},
   "source": [
    "# Training"
   ]
  },
  {
   "cell_type": "code",
   "execution_count": 8,
   "metadata": {},
   "outputs": [
    {
     "name": "stdout",
     "output_type": "stream",
     "text": [
      "Model: \"model\"\n",
      "__________________________________________________________________________________________________\n",
      "Layer (type)                    Output Shape         Param #     Connected to                     \n",
      "==================================================================================================\n",
      "input_1 (InputLayer)            [(None, 7044, 1)]    0                                            \n",
      "__________________________________________________________________________________________________\n",
      "layer1_conv (Conv1D)            (None, 7041, 16)     80          input_1[0][0]                    \n",
      "__________________________________________________________________________________________________\n",
      "layer1_maxpool (MaxPooling1D)   (None, 1760, 16)     0           layer1_conv[0][0]                \n",
      "__________________________________________________________________________________________________\n",
      "layer1_dropout (Dropout)        (None, 1760, 16)     0           layer1_maxpool[0][0]             \n",
      "__________________________________________________________________________________________________\n",
      "layer2_conv (Conv1D)            (None, 1757, 16)     1040        layer1_dropout[0][0]             \n",
      "__________________________________________________________________________________________________\n",
      "layer2_maxpool (MaxPooling1D)   (None, 439, 16)      0           layer2_conv[0][0]                \n",
      "__________________________________________________________________________________________________\n",
      "layer2_dropout (Dropout)        (None, 439, 16)      0           layer2_maxpool[0][0]             \n",
      "__________________________________________________________________________________________________\n",
      "layer3_conv (Conv1D)            (None, 436, 32)      2080        layer2_dropout[0][0]             \n",
      "__________________________________________________________________________________________________\n",
      "layer3_maxpool (MaxPooling1D)   (None, 109, 32)      0           layer3_conv[0][0]                \n",
      "__________________________________________________________________________________________________\n",
      "layer3_dropout (Dropout)        (None, 109, 32)      0           layer3_maxpool[0][0]             \n",
      "__________________________________________________________________________________________________\n",
      "layer4_conv (Conv1D)            (None, 106, 32)      4128        layer3_dropout[0][0]             \n",
      "__________________________________________________________________________________________________\n",
      "layer4_maxpool (MaxPooling1D)   (None, 26, 32)       0           layer4_conv[0][0]                \n",
      "__________________________________________________________________________________________________\n",
      "layer4_dropout (Dropout)        (None, 26, 32)       0           layer4_maxpool[0][0]             \n",
      "__________________________________________________________________________________________________\n",
      "flatten (Flatten)               (None, 832)          0           layer4_dropout[0][0]             \n",
      "__________________________________________________________________________________________________\n",
      "input_2 (InputLayer)            [(None, 25)]         0                                            \n",
      "__________________________________________________________________________________________________\n",
      "ptrs_dense (Dense)              (None, 17)           14144       flatten[0][0]                    \n",
      "__________________________________________________________________________________________________\n",
      "covar_dense (Dense)             (None, 17)           442         input_2[0][0]                    \n",
      "__________________________________________________________________________________________________\n",
      "add (Add)                       (None, 17)           0           ptrs_dense[0][0]                 \n",
      "                                                                 covar_dense[0][0]                \n",
      "==================================================================================================\n",
      "Total params: 21,914\n",
      "Trainable params: 21,914\n",
      "Non-trainable params: 0\n",
      "__________________________________________________________________________________________________\n"
     ]
    }
   ],
   "source": [
    "logging.info('Start training')\n",
    "cnn_model = util_misc.load_ordered_yaml('../misc_files/cnn_ptrs.yaml')\n",
    "cnn = lib_cnnPTRS.cnnPTRS(cnn_model, data_scheme, f'{output_dir}/cnnPTRS_phase1_{population}_ctimp_Whole_Blood.h5', normalizer = True)\n",
    "cnn.model.summary()\n",
    "cnn.add_logger(logging)"
   ]
  },
  {
   "cell_type": "markdown",
   "metadata": {},
   "source": [
    "Train all (phase1)."
   ]
  },
  {
   "cell_type": "code",
   "execution_count": 9,
   "metadata": {},
   "outputs": [],
   "source": [
    "logging.info('Start to initialize normalizer')\n",
    "optimizer = tf.keras.optimizers.Adam()\n",
    "norm, norm_v = cnn.prep_train(ele_valid) \n",
    "logging.info('Normalizer initialization finished')"
   ]
  },
  {
   "cell_type": "code",
   "execution_count": 10,
   "metadata": {},
   "outputs": [],
   "source": [
    "logging.info('Creating training graph: phase 1')\n",
    "mytrain = cnn.train_func()\n",
    "logging.info('Start training: Phase 1')\n",
    "mytrain(cnn, optimizer, 20, ele_valid, logfile, normalizer = norm, normalizer_valid = norm_v, ele_insample = ele_insample)\n",
    "logging.info('Training Phase 1 finished')"
   ]
  },
  {
   "cell_type": "markdown",
   "metadata": {},
   "source": [
    "Train CNN only (phase 2)."
   ]
  },
  {
   "cell_type": "code",
   "execution_count": 11,
   "metadata": {},
   "outputs": [],
   "source": [
    "cnn.temp_path = f'{output_dir}/cnnPTRS_phase2_{population}_ctimp_Whole_Blood.h5'\n",
    "var_list = cnn.model.trainable_variables\n",
    "_ = var_list.pop(-1)\n",
    "_ = var_list.pop(-1)\n",
    "var_list[-1]\n",
    "logging.info('Creating training graph: phase 2')\n",
    "mytrain = cnn.train_func(var_list = var_list)\n",
    "logging.info('Start training: Phase 2')\n",
    "mytrain(cnn, optimizer, 200, ele_valid, logfile, normalizer = norm, normalizer_valid = norm_v, ele_insample = ele_insample)  # , log_path = 'file://' + logfile)\n",
    "logging.info('Training Phase 2 finished')"
   ]
  },
  {
   "cell_type": "markdown",
   "metadata": {},
   "source": [
    "Save model."
   ]
  },
  {
   "cell_type": "code",
   "execution_count": 12,
   "metadata": {},
   "outputs": [],
   "source": [
    "logging.info('Saving model')\n",
    "cnn.model.save(f'{output_dir}/cnnPTRS_{population}_ctimp_Whole_Blood.h5')"
   ]
  }
 ],
 "metadata": {
  "kernelspec": {
   "display_name": "Python 3",
   "language": "python",
   "name": "python3"
  },
  "language_info": {
   "codemirror_mode": {
    "name": "ipython",
    "version": 3
   },
   "file_extension": ".py",
   "mimetype": "text/x-python",
   "name": "python",
   "nbconvert_exporter": "python",
   "pygments_lexer": "ipython3",
   "version": "3.7.6"
  }
 },
 "nbformat": 4,
 "nbformat_minor": 2
}
