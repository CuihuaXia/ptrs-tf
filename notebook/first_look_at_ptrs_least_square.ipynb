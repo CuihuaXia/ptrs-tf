{
 "cells": [
  {
   "cell_type": "code",
   "execution_count": 1,
   "metadata": {},
   "outputs": [],
   "source": [
    "import sys\n",
    "sys.path.append(\"../code/\")\n",
    "import util_ElasticNet, lib_LinearAlgebra, util_hdf5, util_Stats\n",
    "import tensorflow as tf\n",
    "import numpy as np\n",
    "import pandas as pd\n",
    "import h5py, yaml\n",
    "import matplotlib.pyplot as plt\n",
    "from importlib import reload  \n",
    "import lib_LinearAlgebra\n",
    "lib_LinearAlgebra = reload(lib_LinearAlgebra)\n",
    "util_ElasticNet = reload(util_ElasticNet)\n",
    "util_hdf5 = reload(util_hdf5)\n",
    "util_Stats = reload(util_Stats)\n",
    "import util_hdf5\n",
    "import logging, sys\n",
    "import seaborn as sns\n",
    "logging.basicConfig(\n",
    "    level = logging.INFO, \n",
    "    stream = sys.stderr, \n",
    "    format = '%(asctime)s  %(message)s',\n",
    "    datefmt = '%Y-%m-%d %I:%M:%S %p'\n",
    ")"
   ]
  },
  {
   "cell_type": "markdown",
   "metadata": {},
   "source": [
    "# Analysis overview\n",
    "\n",
    "Building PTRS.\n",
    "\n",
    "1. Split British data into 3 sets: training, test, validation.\n",
    "2. Train least squares predictor using British training data.\n",
    "3. Compute PTRS in all populations."
   ]
  },
  {
   "cell_type": "markdown",
   "metadata": {},
   "source": [
    "# Load data"
   ]
  },
  {
   "cell_type": "code",
   "execution_count": 2,
   "metadata": {},
   "outputs": [],
   "source": [
    "# set path to British data\n",
    "hdf5_british = '/vol/bmd/yanyul/UKB/predicted_expression_tf2/ukb_imp_x_ctimp_Whole_Blood_British.hdf5'\n",
    "\n",
    "# data scheme specifying which are traits and covariates\n",
    "scheme_yaml = '../misc_files/data_scheme.yaml'\n",
    "\n",
    "# loading names of traits/covariates\n",
    "# the order is matched with the data being loaded\n",
    "feature_dic = util_hdf5.read_yaml(scheme_yaml)\n",
    "with h5py.File(hdf5_british, 'r') as f:\n",
    "    features = f['columns_y'][:].astype('str')\n",
    "    y = f['y'][:]\n",
    "covar_indice = np.where(np.isin(features, feature_dic['covar_names']))[0]\n",
    "trait_indice = np.where(np.isin(features, feature_dic['outcome_names']))[0]"
   ]
  },
  {
   "cell_type": "code",
   "execution_count": 3,
   "metadata": {},
   "outputs": [],
   "source": [
    "# import scipy.stats\n",
    "# def inv_norm_col(mat):\n",
    "#     return np.apply_along_axis(inv_norm_vec, 0, mat)\n",
    "# def inv_norm_vec(vec, offset = 1):\n",
    "#     rank = myrank(vec)\n",
    "#     return scipy.stats.norm.ppf(rank / (len(rank) + offset), loc = 0, scale = 1)\n",
    "# def myrank(vec):\n",
    "#     argsort = np.argsort(vec)\n",
    "#     ranks = np.empty_like(argsort)\n",
    "#     ranks[argsort] = np.arange(len(vec))\n",
    "#     return ranks + 1  # rank starts from 1"
   ]
  },
  {
   "cell_type": "code",
   "execution_count": 4,
   "metadata": {},
   "outputs": [],
   "source": [
    "# y_norm = inv_norm_col(y)"
   ]
  },
  {
   "cell_type": "code",
   "execution_count": 5,
   "metadata": {},
   "outputs": [],
   "source": [
    "# scipy.stats.describe(y_norm[:,2])"
   ]
  },
  {
   "cell_type": "code",
   "execution_count": 6,
   "metadata": {},
   "outputs": [
    {
     "data": {
      "text/plain": [
       "array(['age_recruitment', 'sex', 'pc1', 'pc2', 'pc3', 'pc4', 'pc5', 'pc6',\n",
       "       'pc7', 'pc8', 'pc9', 'pc10', 'pc11', 'pc12', 'pc13', 'pc14',\n",
       "       'pc15', 'pc16', 'pc17', 'pc18', 'pc19', 'pc20', 'height', 'dbp',\n",
       "       'sbp', 'bmi', 'wbc', 'rbc', 'hb', 'ht', 'mcv', 'mch', 'mchc',\n",
       "       'platelet', 'lymphocyte', 'monocyte', 'neutrophil', 'eosinophil',\n",
       "       'basophil', 'age_squared', 'age_times_sex',\n",
       "       'age_squared_times_sex'], dtype='<U21')"
      ]
     },
     "execution_count": 6,
     "metadata": {},
     "output_type": "execute_result"
    }
   ],
   "source": [
    "features"
   ]
  },
  {
   "cell_type": "code",
   "execution_count": 7,
   "metadata": {},
   "outputs": [
    {
     "name": "stdout",
     "output_type": "stream",
     "text": [
      "batch_size in British set is 4096\n"
     ]
    }
   ],
   "source": [
    "# load data_scheme for training\n",
    "batch_size = 2 ** 12\n",
    "print(f'batch_size in British set is {batch_size}')\n",
    "data_scheme, sample_size = util_hdf5.build_data_scheme(\n",
    "    hdf5_british, \n",
    "    scheme_yaml, \n",
    "    batch_size = batch_size, \n",
    "    inv_norm_y = True\n",
    ")\n",
    "\n",
    "# set validation and test set as the first and second batch\n",
    "dataset_valid = data_scheme.dataset.take(1)\n",
    "data_scheme.dataset = data_scheme.dataset.skip(1)\n",
    "dataset_test = data_scheme.dataset.take(1)\n",
    "data_scheme.dataset = data_scheme.dataset.skip(1)\n",
    "dataset_insample = data_scheme.dataset.take(1)\n",
    "# data_scheme.dataset = data_scheme.dataset.take(10)"
   ]
  },
  {
   "cell_type": "code",
   "execution_count": 8,
   "metadata": {},
   "outputs": [],
   "source": [
    "data_scheme2, sample_size2 = util_hdf5.build_data_scheme(\n",
    "    hdf5_british, \n",
    "    scheme_yaml, \n",
    "    batch_size = batch_size, \n",
    "    inv_norm_y = True\n",
    ")\n",
    "\n",
    "for u in data_scheme2.dataset.unbatch().batch(20):\n",
    "#     print(u[0].shape)\n",
    "    x, y = data_scheme2.get_data_matrix(u)\n",
    "    break\n"
   ]
  },
  {
   "cell_type": "code",
   "execution_count": 9,
   "metadata": {},
   "outputs": [
    {
     "data": {
      "text/plain": [
       "<tf.Tensor: shape=(20,), dtype=float32, numpy=\n",
       "array([1681.,    0.,    0.,    0.,    0., 2500.,    0.,    0.,    0.,\n",
       "          0.,    0.,    0., 2304., 3969.,    0., 2809., 2916., 2916.,\n",
       "       3600.,    0.], dtype=float32)>"
      ]
     },
     "execution_count": 9,
     "metadata": {},
     "output_type": "execute_result"
    }
   ],
   "source": [
    "x[:,-1]"
   ]
  },
  {
   "cell_type": "markdown",
   "metadata": {},
   "source": [
    "# Training "
   ]
  },
  {
   "cell_type": "code",
   "execution_count": 10,
   "metadata": {},
   "outputs": [
    {
     "name": "stderr",
     "output_type": "stream",
     "text": [
      "2020-02-02 10:52:17 AM  Progress 5%: 20480 / 348284\n",
      "2020-02-02 10:52:18 AM  Progress 10%: 36864 / 348284\n",
      "2020-02-02 10:52:18 AM  Progress 15%: 53248 / 348284\n",
      "2020-02-02 10:52:19 AM  Progress 20%: 73728 / 348284\n",
      "2020-02-02 10:52:20 AM  Progress 25%: 90112 / 348284\n",
      "2020-02-02 10:52:21 AM  Progress 30%: 106496 / 348284\n",
      "2020-02-02 10:52:22 AM  Progress 35%: 122880 / 348284\n",
      "2020-02-02 10:52:22 AM  Progress 40%: 143360 / 348284\n",
      "2020-02-02 10:52:23 AM  Progress 45%: 159744 / 348284\n",
      "2020-02-02 10:52:24 AM  Progress 50%: 176128 / 348284\n",
      "2020-02-02 10:52:25 AM  Progress 55%: 192512 / 348284\n",
      "2020-02-02 10:52:26 AM  Progress 60%: 212992 / 348284\n",
      "2020-02-02 10:52:27 AM  Progress 65%: 229376 / 348284\n",
      "2020-02-02 10:52:27 AM  Progress 70%: 245760 / 348284\n",
      "2020-02-02 10:52:28 AM  Progress 75%: 262144 / 348284\n",
      "2020-02-02 10:52:29 AM  Progress 80%: 282624 / 348284\n",
      "2020-02-02 10:52:30 AM  Progress 85%: 299008 / 348284\n",
      "2020-02-02 10:52:31 AM  Progress 90%: 315392 / 348284\n",
      "2020-02-02 10:52:32 AM  Progress 95%: 331776 / 348284\n",
      "2020-02-02 10:52:33 AM  Progress 100%: 348284 / 348284\n"
     ]
    }
   ],
   "source": [
    "least_square_solver = lib_LinearAlgebra.LeastSquaredEstimator(data_scheme, intercept = True, normalizer = True)\n",
    "least_square_solver.solve(logging = logging, sample_size = sample_size - batch_size * 2)"
   ]
  },
  {
   "cell_type": "markdown",
   "metadata": {},
   "source": [
    "# Testing"
   ]
  },
  {
   "cell_type": "markdown",
   "metadata": {},
   "source": [
    "## Loading other datasets"
   ]
  },
  {
   "cell_type": "code",
   "execution_count": 11,
   "metadata": {},
   "outputs": [],
   "source": [
    "test_datasets = {\n",
    "    'British_validation': dataset_valid,\n",
    "    'British_test': dataset_test,\n",
    "    'British_insample': dataset_insample,\n",
    "    'Chinese': None,\n",
    "    'Indian': None,\n",
    "    'African': None\n",
    "}\n",
    "batch_size_here = 8096\n",
    "for i in test_datasets.keys():\n",
    "    if 'British' not in i:\n",
    "        filename = f'/vol/bmd/yanyul/UKB/predicted_expression_tf2/ukb_imp_x_ctimp_Whole_Blood_{i}.hdf5'\n",
    "        data_scheme, sample_size = util_hdf5.build_data_scheme(\n",
    "            filename, \n",
    "            scheme_yaml, \n",
    "            batch_size = batch_size_here, \n",
    "            inv_norm_y = True\n",
    "        )\n",
    "        test_datasets[i] = data_scheme.dataset"
   ]
  },
  {
   "cell_type": "markdown",
   "metadata": {},
   "source": [
    "## Calculate PTRS\n",
    "\n",
    "This section is mainly for debugging."
   ]
  },
  {
   "cell_type": "code",
   "execution_count": 12,
   "metadata": {},
   "outputs": [],
   "source": [
    "# dataset = test_datasets['British_validation']\n",
    "# dataset_in = test_datasets['British_insample']\n",
    "# ptrs_british_valid = least_square_solver.predict_x(dataset)\n",
    "# ptrs_british_in = least_square_solver.predict_x(dataset_in)"
   ]
  },
  {
   "cell_type": "code",
   "execution_count": 13,
   "metadata": {},
   "outputs": [],
   "source": [
    "# least_square_solver.betahat"
   ]
  },
  {
   "cell_type": "code",
   "execution_count": 14,
   "metadata": {},
   "outputs": [],
   "source": [
    "# fig, axe = plt.subplots(ncols = 3, nrows = 6, figsize = (10,20))\n",
    "# for i in range(3):\n",
    "#     for j in range(6):\n",
    "#         k = j * 3 + i \n",
    "#         if k < 17:\n",
    "#             axe[j][i].scatter(ptrs_british_valid['y'][:, k], ptrs_british_valid['y_pred_from_x'][:, k])\n",
    "#             axe[j][i].title.set_text(features[trait_indice][k])\n",
    "#             axe[j][i].scatter(ptrs_british_in['y'][:, k], ptrs_british_in['y_pred_from_x'][:, k])\n",
    "#             axe[j][i].title.set_text(features[trait_indice][k])"
   ]
  },
  {
   "cell_type": "markdown",
   "metadata": {},
   "source": [
    "## Calculate partial R2"
   ]
  },
  {
   "cell_type": "code",
   "execution_count": 15,
   "metadata": {},
   "outputs": [
    {
     "name": "stdout",
     "output_type": "stream",
     "text": [
      "trait = British_validation, ncol(covar) = 25\n",
      "(26, 26)\n",
      "trait = British_test, ncol(covar) = 25\n",
      "(26, 26)\n",
      "trait = British_insample, ncol(covar) = 25\n",
      "(26, 26)\n",
      "trait = Chinese, ncol(covar) = 25\n",
      "(26, 26)\n",
      "trait = Indian, ncol(covar) = 25\n",
      "(26, 26)\n",
      "trait = African, ncol(covar) = 25\n",
      "(26, 26)\n"
     ]
    }
   ],
   "source": [
    "partial_r2 = {}\n",
    "for i in test_datasets.keys():\n",
    "    dataset = test_datasets[i]\n",
    "    for ele in dataset:\n",
    "        x, y = least_square_solver.data_scheme.get_data_matrix(ele)\n",
    "        covar = x[:, -len(least_square_solver.data_scheme.covariate_indice) :]\n",
    "        print('trait = {}, ncol(covar) = {}'.format(i, covar.shape[1]))\n",
    "    out = least_square_solver.predict_x(dataset)\n",
    "    partial_r2[i] = util_Stats.quick_partial_r2(covar, out['y'], np.expand_dims(out['y_pred_from_x'], axis = 2))"
   ]
  },
  {
   "cell_type": "code",
   "execution_count": 16,
   "metadata": {},
   "outputs": [
    {
     "data": {
      "text/plain": [
       "(17, 1)"
      ]
     },
     "execution_count": 16,
     "metadata": {},
     "output_type": "execute_result"
    }
   ],
   "source": [
    "partial_r2['Chinese'].shape"
   ]
  },
  {
   "cell_type": "code",
   "execution_count": 17,
   "metadata": {
    "scrolled": true
   },
   "outputs": [],
   "source": [
    "def _pr2_format(ele, features, name):\n",
    "    return pd.DataFrame({'partial_r2': ele[:, 0], 'trait': features, 'sample': name})\n",
    "df = pd.DataFrame({'partial_r2': [], 'trait': [], 'sample': []})\n",
    "for i in partial_r2.keys():\n",
    "    df = pd.concat((df, _pr2_format(partial_r2[i], features[trait_indice], i)))"
   ]
  },
  {
   "cell_type": "code",
   "execution_count": 18,
   "metadata": {},
   "outputs": [
    {
     "data": {
      "text/html": [
       "<div>\n",
       "<style scoped>\n",
       "    .dataframe tbody tr th:only-of-type {\n",
       "        vertical-align: middle;\n",
       "    }\n",
       "\n",
       "    .dataframe tbody tr th {\n",
       "        vertical-align: top;\n",
       "    }\n",
       "\n",
       "    .dataframe thead th {\n",
       "        text-align: right;\n",
       "    }\n",
       "</style>\n",
       "<table border=\"1\" class=\"dataframe\">\n",
       "  <thead>\n",
       "    <tr style=\"text-align: right;\">\n",
       "      <th></th>\n",
       "      <th>partial_r2</th>\n",
       "      <th>trait</th>\n",
       "      <th>sample</th>\n",
       "    </tr>\n",
       "  </thead>\n",
       "  <tbody>\n",
       "    <tr>\n",
       "      <th>0</th>\n",
       "      <td>0.118363</td>\n",
       "      <td>height</td>\n",
       "      <td>British_validation</td>\n",
       "    </tr>\n",
       "    <tr>\n",
       "      <th>1</th>\n",
       "      <td>0.016811</td>\n",
       "      <td>dbp</td>\n",
       "      <td>British_validation</td>\n",
       "    </tr>\n",
       "    <tr>\n",
       "      <th>2</th>\n",
       "      <td>0.014212</td>\n",
       "      <td>sbp</td>\n",
       "      <td>British_validation</td>\n",
       "    </tr>\n",
       "    <tr>\n",
       "      <th>3</th>\n",
       "      <td>0.030900</td>\n",
       "      <td>bmi</td>\n",
       "      <td>British_validation</td>\n",
       "    </tr>\n",
       "    <tr>\n",
       "      <th>4</th>\n",
       "      <td>0.041676</td>\n",
       "      <td>wbc</td>\n",
       "      <td>British_validation</td>\n",
       "    </tr>\n",
       "    <tr>\n",
       "      <th>...</th>\n",
       "      <td>...</td>\n",
       "      <td>...</td>\n",
       "      <td>...</td>\n",
       "    </tr>\n",
       "    <tr>\n",
       "      <th>12</th>\n",
       "      <td>0.007680</td>\n",
       "      <td>lymphocyte</td>\n",
       "      <td>African</td>\n",
       "    </tr>\n",
       "    <tr>\n",
       "      <th>13</th>\n",
       "      <td>0.008967</td>\n",
       "      <td>monocyte</td>\n",
       "      <td>African</td>\n",
       "    </tr>\n",
       "    <tr>\n",
       "      <th>14</th>\n",
       "      <td>0.007251</td>\n",
       "      <td>neutrophil</td>\n",
       "      <td>African</td>\n",
       "    </tr>\n",
       "    <tr>\n",
       "      <th>15</th>\n",
       "      <td>0.005128</td>\n",
       "      <td>eosinophil</td>\n",
       "      <td>African</td>\n",
       "    </tr>\n",
       "    <tr>\n",
       "      <th>16</th>\n",
       "      <td>0.000192</td>\n",
       "      <td>basophil</td>\n",
       "      <td>African</td>\n",
       "    </tr>\n",
       "  </tbody>\n",
       "</table>\n",
       "<p>102 rows × 3 columns</p>\n",
       "</div>"
      ],
      "text/plain": [
       "    partial_r2       trait              sample\n",
       "0     0.118363      height  British_validation\n",
       "1     0.016811         dbp  British_validation\n",
       "2     0.014212         sbp  British_validation\n",
       "3     0.030900         bmi  British_validation\n",
       "4     0.041676         wbc  British_validation\n",
       "..         ...         ...                 ...\n",
       "12    0.007680  lymphocyte             African\n",
       "13    0.008967    monocyte             African\n",
       "14    0.007251  neutrophil             African\n",
       "15    0.005128  eosinophil             African\n",
       "16    0.000192    basophil             African\n",
       "\n",
       "[102 rows x 3 columns]"
      ]
     },
     "execution_count": 18,
     "metadata": {},
     "output_type": "execute_result"
    }
   ],
   "source": [
    "df"
   ]
  },
  {
   "cell_type": "markdown",
   "metadata": {},
   "source": [
    "# Save partial R2"
   ]
  },
  {
   "cell_type": "code",
   "execution_count": 19,
   "metadata": {},
   "outputs": [
    {
     "data": {
      "text/html": [
       "<div>\n",
       "<style scoped>\n",
       "    .dataframe tbody tr th:only-of-type {\n",
       "        vertical-align: middle;\n",
       "    }\n",
       "\n",
       "    .dataframe tbody tr th {\n",
       "        vertical-align: top;\n",
       "    }\n",
       "\n",
       "    .dataframe thead th {\n",
       "        text-align: right;\n",
       "    }\n",
       "</style>\n",
       "<table border=\"1\" class=\"dataframe\">\n",
       "  <thead>\n",
       "    <tr style=\"text-align: right;\">\n",
       "      <th></th>\n",
       "      <th>partial_r2</th>\n",
       "      <th>trait</th>\n",
       "      <th>sample</th>\n",
       "    </tr>\n",
       "  </thead>\n",
       "  <tbody>\n",
       "    <tr>\n",
       "      <th>0</th>\n",
       "      <td>0.118363</td>\n",
       "      <td>height</td>\n",
       "      <td>British_validation</td>\n",
       "    </tr>\n",
       "    <tr>\n",
       "      <th>1</th>\n",
       "      <td>0.016811</td>\n",
       "      <td>dbp</td>\n",
       "      <td>British_validation</td>\n",
       "    </tr>\n",
       "    <tr>\n",
       "      <th>2</th>\n",
       "      <td>0.014212</td>\n",
       "      <td>sbp</td>\n",
       "      <td>British_validation</td>\n",
       "    </tr>\n",
       "    <tr>\n",
       "      <th>3</th>\n",
       "      <td>0.030900</td>\n",
       "      <td>bmi</td>\n",
       "      <td>British_validation</td>\n",
       "    </tr>\n",
       "    <tr>\n",
       "      <th>4</th>\n",
       "      <td>0.041676</td>\n",
       "      <td>wbc</td>\n",
       "      <td>British_validation</td>\n",
       "    </tr>\n",
       "    <tr>\n",
       "      <th>...</th>\n",
       "      <td>...</td>\n",
       "      <td>...</td>\n",
       "      <td>...</td>\n",
       "    </tr>\n",
       "    <tr>\n",
       "      <th>12</th>\n",
       "      <td>0.007680</td>\n",
       "      <td>lymphocyte</td>\n",
       "      <td>African</td>\n",
       "    </tr>\n",
       "    <tr>\n",
       "      <th>13</th>\n",
       "      <td>0.008967</td>\n",
       "      <td>monocyte</td>\n",
       "      <td>African</td>\n",
       "    </tr>\n",
       "    <tr>\n",
       "      <th>14</th>\n",
       "      <td>0.007251</td>\n",
       "      <td>neutrophil</td>\n",
       "      <td>African</td>\n",
       "    </tr>\n",
       "    <tr>\n",
       "      <th>15</th>\n",
       "      <td>0.005128</td>\n",
       "      <td>eosinophil</td>\n",
       "      <td>African</td>\n",
       "    </tr>\n",
       "    <tr>\n",
       "      <th>16</th>\n",
       "      <td>0.000192</td>\n",
       "      <td>basophil</td>\n",
       "      <td>African</td>\n",
       "    </tr>\n",
       "  </tbody>\n",
       "</table>\n",
       "<p>102 rows × 3 columns</p>\n",
       "</div>"
      ],
      "text/plain": [
       "    partial_r2       trait              sample\n",
       "0     0.118363      height  British_validation\n",
       "1     0.016811         dbp  British_validation\n",
       "2     0.014212         sbp  British_validation\n",
       "3     0.030900         bmi  British_validation\n",
       "4     0.041676         wbc  British_validation\n",
       "..         ...         ...                 ...\n",
       "12    0.007680  lymphocyte             African\n",
       "13    0.008967    monocyte             African\n",
       "14    0.007251  neutrophil             African\n",
       "15    0.005128  eosinophil             African\n",
       "16    0.000192    basophil             African\n",
       "\n",
       "[102 rows x 3 columns]"
      ]
     },
     "execution_count": 19,
     "metadata": {},
     "output_type": "execute_result"
    }
   ],
   "source": [
    "df"
   ]
  },
  {
   "cell_type": "code",
   "execution_count": 20,
   "metadata": {},
   "outputs": [],
   "source": [
    "df.to_csv('/vol/bmd/yanyul/UKB/ptrs-tf/models/partial_r2-least_square_model-ukb_imp_x_ctimp_Whole_Blood_British.tsv', sep = '\\t', index = False)"
   ]
  },
  {
   "cell_type": "code",
   "execution_count": 21,
   "metadata": {},
   "outputs": [
    {
     "data": {
      "text/plain": [
       "<matplotlib.axes._subplots.AxesSubplot at 0x7f2ff0106990>"
      ]
     },
     "execution_count": 21,
     "metadata": {},
     "output_type": "execute_result"
    },
    {
     "data": {
      "image/png": "[encoded data removed]",
      "text/plain": [
       "<Figure size 1080x576 with 1 Axes>"
      ]
     },
     "metadata": {
      "needs_background": "light"
     },
     "output_type": "display_data"
    }
   ],
   "source": [
    "plt.figure(figsize=(15,8))\n",
    "sns.barplot(x = \"trait\", y = \"partial_r2\", hue = 'sample', data = df)\n"
   ]
  },
  {
   "cell_type": "markdown",
   "metadata": {},
   "source": [
    "# Load REML result"
   ]
  },
  {
   "cell_type": "code",
   "execution_count": 22,
   "metadata": {},
   "outputs": [],
   "source": [
    "filename = '/vol/bmd/yanyul/UKB/gcta_regulability/reml_from_hail_martin_et_al_traits_x_ctimp_Whole_Blood_x_{pop}.tsv'\n",
    "df_reml = pd.DataFrame({})\n",
    "for pop in ['African', 'Chinese', 'Indian', 'British-test-1']:\n",
    "    df_reml_i = pd.read_csv(filename.format(pop = pop), sep = '\\t')\n",
    "    if 'British' in pop:\n",
    "        pop = 'British_test'\n",
    "    df_reml_i['sample'] = pop\n",
    "    df_reml = pd.concat((df_reml, df_reml_i))"
   ]
  },
  {
   "cell_type": "code",
   "execution_count": 23,
   "metadata": {},
   "outputs": [
    {
     "data": {
      "text/plain": [
       "<matplotlib.axes._subplots.AxesSubplot at 0x7f300b71b5d0>"
      ]
     },
     "execution_count": 23,
     "metadata": {},
     "output_type": "execute_result"
    },
    {
     "data": {
      "image/png": "[encoded data removed]",
      "text/plain": [
       "<Figure size 1080x576 with 1 Axes>"
      ]
     },
     "metadata": {
      "needs_background": "light"
     },
     "output_type": "display_data"
    }
   ],
   "source": [
    "plt.figure(figsize=(15,8))\n",
    "sns.barplot(x = \"trait\", y = \"h_sq\", hue = 'sample', data = df_reml)"
   ]
  },
  {
   "cell_type": "markdown",
   "metadata": {},
   "source": [
    "# REML vs Partial R2"
   ]
  },
  {
   "cell_type": "code",
   "execution_count": 24,
   "metadata": {},
   "outputs": [],
   "source": [
    "tmp = pd.read_table('/vol/bmd/yanyul/GitHub/ptrs-ukb/external_data/martin_et_al_2019ng_table_s6_trait_description.tsv', sep = '\\t')\n",
    "blood_traits = ['wbc', 'rbc', 'platelet', 'lymphocyte', 'monocyte', 'neutrophil', 'eosinophil', 'basophil'] \n",
    "df_join = df_reml.join(df.set_index(['trait', 'sample']), on = ['trait', 'sample'])\n",
    "df_join['is_blood_cell_count'] = np.isin(df_join['trait'], blood_traits)"
   ]
  },
  {
   "cell_type": "code",
   "execution_count": 25,
   "metadata": {},
   "outputs": [
    {
     "data": {
      "text/plain": [
       "<seaborn.axisgrid.FacetGrid at 0x7f300b73cf10>"
      ]
     },
     "execution_count": 25,
     "metadata": {},
     "output_type": "execute_result"
    },
    {
     "data": {
      "image/png": "[encoded data removed]",
      "text/plain": [
       "<Figure size 524.375x216 with 2 Axes>"
      ]
     },
     "metadata": {
      "needs_background": "light"
     },
     "output_type": "display_data"
    }
   ],
   "source": [
    "g = sns.FacetGrid(df_join, col = \"is_blood_cell_count\", hue = 'sample')  # \n",
    "g = g.map(plt.scatter, \"h_sq\", \"partial_r2\")\n",
    "g.add_legend()\n",
    "# plt.figure(figsize=(10,10))\n",
    "# sns.scatterplot(x = \"h_sq\", y = \"partial_r2\", hue = 'trait', style = 'sample', data = df_join)"
   ]
  }
 ],
 "metadata": {
  "kernelspec": {
   "display_name": "Python 3",
   "language": "python",
   "name": "python3"
  },
  "language_info": {
   "codemirror_mode": {
    "name": "ipython",
    "version": 3
   },
   "file_extension": ".py",
   "mimetype": "text/x-python",
   "name": "python",
   "nbconvert_exporter": "python",
   "pygments_lexer": "ipython3",
   "version": "3.7.6"
  }
 },
 "nbformat": 4,
 "nbformat_minor": 2
}
